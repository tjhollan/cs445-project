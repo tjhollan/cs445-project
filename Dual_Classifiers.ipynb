{
 "cells": [
  {
   "cell_type": "markdown",
   "metadata": {},
   "source": [
    "# Combining Classifiers"
   ]
  },
  {
   "cell_type": "markdown",
   "metadata": {},
   "source": [
    "Trevor Holland"
   ]
  },
  {
   "cell_type": "markdown",
   "metadata": {},
   "source": [
    "This notebook should have been the proof-of-concept building the algorithms and classes that I would use on more complicated datasets. For this notebook, I'm using the MNIST dataset because it's a classifer that is easily recognizable, small enough to download, and unpacks into a training/validate/test split in two lines."
   ]
  },
  {
   "cell_type": "code",
   "execution_count": 1,
   "metadata": {},
   "outputs": [],
   "source": [
    "import neuralnetworks as nn\n",
    "import numpy as np\n",
    "import pandas as pd\n",
    "import matplotlib.pyplot as plt\n",
    "import torch\n",
    "import copy\n",
    "import pickle\n",
    "import gzip\n",
    "import time"
   ]
  },
  {
   "cell_type": "markdown",
   "metadata": {},
   "source": [
    "Unpacking MNIST."
   ]
  },
  {
   "cell_type": "code",
   "execution_count": 2,
   "metadata": {},
   "outputs": [],
   "source": [
    "with gzip.open('mnist.pkl.gz', 'rb') as f:\n",
    "    train_set, valid_set, test_set = pickle.load(f, encoding='latin1')"
   ]
  },
  {
   "cell_type": "markdown",
   "metadata": {},
   "source": [
    "This is a standard confusion matrix. It looks a lot like the one I found in wikipedia, but also like the ones from the various lectures and assignments from cs445. I copied it out of one of my homework assignments and do not know if I wrote it or if it came with the assignment."
   ]
  },
  {
   "cell_type": "code",
   "execution_count": 3,
   "metadata": {},
   "outputs": [],
   "source": [
    "def confusion_matrix(predicted_classes, actual_classes):\n",
    "    classifiers = np.unique(actual_classes)\n",
    "    table = []\n",
    "    for true_class in classifiers:\n",
    "        row = []\n",
    "        for predicted_class in classifiers:\n",
    "            row.append(100 * np.mean(predicted_classes[actual_classes == true_class] == predicted_class))\n",
    "        table.append(row)\n",
    "    conf_matrix = pd.DataFrame(table, index=classifiers, columns=classifiers)\n",
    "    return conf_matrix"
   ]
  },
  {
   "cell_type": "markdown",
   "metadata": {},
   "source": [
    "## Simple Classifier"
   ]
  },
  {
   "cell_type": "markdown",
   "metadata": {},
   "source": [
    "Here I'm unpacking the training, validation, and test MNIST sets into inputs (X) and targets (T) for training classifiers."
   ]
  },
  {
   "cell_type": "code",
   "execution_count": 4,
   "metadata": {},
   "outputs": [
    {
     "name": "stdout",
     "output_type": "stream",
     "text": [
      "(50000, 784) (50000,) (10000, 784) (10000,) (10000, 784) (10000,)\n",
      "5\n"
     ]
    }
   ],
   "source": [
    "Xtrain = train_set[0]\n",
    "Ttrain = train_set[1]\n",
    "\n",
    "Xval = valid_set[0]\n",
    "Tval = valid_set[1]\n",
    "\n",
    "Xtest = test_set[0]\n",
    "Ttest = test_set[1]\n",
    "\n",
    "print(Xtrain.shape, Ttrain.shape,  Xval.shape, Tval.shape,  Xtest.shape, Ttest.shape)\n",
    "print(Ttrain[0])"
   ]
  },
  {
   "cell_type": "markdown",
   "metadata": {},
   "source": [
    "This reshapes each image into a 28 by 28 matrix instead of a 1 by 784 vector. This is a basic reshaping of a two dimensional image from the single line of data that represents it."
   ]
  },
  {
   "cell_type": "code",
   "execution_count": 5,
   "metadata": {},
   "outputs": [
    {
     "name": "stdout",
     "output_type": "stream",
     "text": [
      "(50000, 1, 28, 28) (10000, 1, 28, 28) (10000, 1, 28, 28)\n"
     ]
    }
   ],
   "source": [
    "Xtrain_cnn = Xtrain.reshape(-1, 1, 28, 28)\n",
    "Xval_cnn = Xval.reshape(-1, 1, 28, 28)\n",
    "Xtest_cnn = Xtest.reshape(-1, 1, 28, 28)\n",
    "print(Xtrain_cnn.shape, Xval_cnn.shape,  Xtest_cnn.shape)"
   ]
  },
  {
   "cell_type": "markdown",
   "metadata": {},
   "source": [
    "Using the GPUs to improve overall performance of the neural networks."
   ]
  },
  {
   "cell_type": "code",
   "execution_count": 6,
   "metadata": {},
   "outputs": [
    {
     "name": "stdout",
     "output_type": "stream",
     "text": [
      "Running on cuda:0\n"
     ]
    }
   ],
   "source": [
    "device = 'cpu'\n",
    "if torch.cuda.is_available():\n",
    "    y_or_n = input('Would you like to run on the GPU? (y or n): ')\n",
    "    if y_or_n == 'y' or y_or_n == 'yes':\n",
    "        device = torch.device('cuda:0' if torch.cuda.is_available() else 'cpu')\n",
    "print('Running on', device)"
   ]
  },
  {
   "cell_type": "markdown",
   "metadata": {},
   "source": [
    "This is a convolutional neural network that does really well with the MNIST data set. It does so well that I couldn't improve on its accuracy with smaller, specialized neural networks."
   ]
  },
  {
   "cell_type": "code",
   "execution_count": 7,
   "metadata": {},
   "outputs": [
    {
     "name": "stdout",
     "output_type": "stream",
     "text": [
      "adam: Epoch 5 Loss 0.742\n",
      "adam: Epoch 10 Loss 0.377\n",
      "adam: Epoch 15 Loss 0.237\n",
      "adam: Epoch 20 Loss 0.172\n",
      "adam: Epoch 25 Loss 0.136\n",
      "adam: Epoch 30 Loss 0.113\n",
      "adam: Epoch 35 Loss 0.097\n",
      "adam: Epoch 40 Loss 0.086\n",
      "adam: Epoch 45 Loss 0.077\n",
      "adam: Epoch 50 Loss 0.069\n",
      "Took 22.204264879226685 seconds to train full network\n"
     ]
    }
   ],
   "source": [
    "cnnet = nn.ConvNet(28 * 28,\n",
    "                [10, 10], # n_hiddens_per_conv_layer\n",
    "                [10], # n_hiddens_per_fc_layer\n",
    "                10,\n",
    "                patch_size_per_conv_layer=[5, 5], stride_per_conv_layer=[2, 2], device=device)\n",
    "cnnet.to(device)\n",
    "\n",
    "start_time = time.time()\n",
    "n_epochs = 50\n",
    "batch_size = 1000\n",
    "learning_rate = 0.001\n",
    "cnnet.train(Xtrain_cnn, Ttrain, batch_size, n_epochs, learning_rate, method='adam')\n",
    "elapsed_time = time.time() - start_time\n",
    "\n",
    "print(f'Took {elapsed_time} seconds to train full network')"
   ]
  },
  {
   "cell_type": "markdown",
   "metadata": {},
   "source": [
    "The confusion matrix shows that most things are getting identified with greater than 96% accuracy. There's not a lot of room for improvement here, but none of them are 100% and there's some room to try to improve the time it takes to train."
   ]
  },
  {
   "cell_type": "code",
   "execution_count": 8,
   "metadata": {},
   "outputs": [
    {
     "data": {
      "text/html": [
       "<style type=\"text/css\">\n",
       "#T_ddaa6_row0_col0, #T_ddaa6_row1_col1, #T_ddaa6_row2_col2, #T_ddaa6_row3_col3, #T_ddaa6_row4_col4, #T_ddaa6_row5_col5, #T_ddaa6_row6_col6, #T_ddaa6_row7_col7, #T_ddaa6_row8_col8, #T_ddaa6_row9_col9 {\n",
       "  background-color: #08306b;\n",
       "  color: #f1f1f1;\n",
       "}\n",
       "#T_ddaa6_row0_col1, #T_ddaa6_row0_col3, #T_ddaa6_row0_col4, #T_ddaa6_row0_col5, #T_ddaa6_row0_col6, #T_ddaa6_row0_col7, #T_ddaa6_row0_col8, #T_ddaa6_row0_col9, #T_ddaa6_row1_col0, #T_ddaa6_row1_col2, #T_ddaa6_row1_col3, #T_ddaa6_row1_col4, #T_ddaa6_row1_col5, #T_ddaa6_row1_col6, #T_ddaa6_row1_col7, #T_ddaa6_row1_col8, #T_ddaa6_row1_col9, #T_ddaa6_row2_col0, #T_ddaa6_row2_col1, #T_ddaa6_row2_col3, #T_ddaa6_row2_col4, #T_ddaa6_row2_col5, #T_ddaa6_row2_col6, #T_ddaa6_row2_col7, #T_ddaa6_row2_col9, #T_ddaa6_row3_col0, #T_ddaa6_row3_col1, #T_ddaa6_row3_col2, #T_ddaa6_row3_col4, #T_ddaa6_row3_col6, #T_ddaa6_row3_col9, #T_ddaa6_row4_col0, #T_ddaa6_row4_col1, #T_ddaa6_row4_col2, #T_ddaa6_row4_col3, #T_ddaa6_row4_col5, #T_ddaa6_row4_col7, #T_ddaa6_row4_col8, #T_ddaa6_row5_col0, #T_ddaa6_row5_col1, #T_ddaa6_row5_col2, #T_ddaa6_row5_col4, #T_ddaa6_row5_col6, #T_ddaa6_row5_col7, #T_ddaa6_row6_col0, #T_ddaa6_row6_col1, #T_ddaa6_row6_col2, #T_ddaa6_row6_col3, #T_ddaa6_row6_col7, #T_ddaa6_row6_col9, #T_ddaa6_row7_col0, #T_ddaa6_row7_col1, #T_ddaa6_row7_col4, #T_ddaa6_row7_col5, #T_ddaa6_row7_col6, #T_ddaa6_row7_col8, #T_ddaa6_row8_col1, #T_ddaa6_row8_col2, #T_ddaa6_row8_col3, #T_ddaa6_row8_col4, #T_ddaa6_row8_col5, #T_ddaa6_row8_col6, #T_ddaa6_row8_col9, #T_ddaa6_row9_col1, #T_ddaa6_row9_col2, #T_ddaa6_row9_col4, #T_ddaa6_row9_col6, #T_ddaa6_row9_col8 {\n",
       "  background-color: #f7fbff;\n",
       "  color: #000000;\n",
       "}\n",
       "#T_ddaa6_row0_col2, #T_ddaa6_row2_col8, #T_ddaa6_row3_col5, #T_ddaa6_row3_col7, #T_ddaa6_row3_col8, #T_ddaa6_row4_col6, #T_ddaa6_row6_col4, #T_ddaa6_row6_col8, #T_ddaa6_row8_col0, #T_ddaa6_row8_col7, #T_ddaa6_row9_col0, #T_ddaa6_row9_col5, #T_ddaa6_row9_col7 {\n",
       "  background-color: #f6faff;\n",
       "  color: #000000;\n",
       "}\n",
       "#T_ddaa6_row4_col9 {\n",
       "  background-color: #f5f9fe;\n",
       "  color: #000000;\n",
       "}\n",
       "#T_ddaa6_row5_col3 {\n",
       "  background-color: #f4f9fe;\n",
       "  color: #000000;\n",
       "}\n",
       "#T_ddaa6_row5_col8, #T_ddaa6_row5_col9, #T_ddaa6_row6_col5, #T_ddaa6_row7_col2, #T_ddaa6_row7_col3, #T_ddaa6_row7_col9, #T_ddaa6_row9_col3 {\n",
       "  background-color: #f5fafe;\n",
       "  color: #000000;\n",
       "}\n",
       "</style>\n",
       "<table id=\"T_ddaa6\">\n",
       "  <thead>\n",
       "    <tr>\n",
       "      <th class=\"blank level0\" >&nbsp;</th>\n",
       "      <th id=\"T_ddaa6_level0_col0\" class=\"col_heading level0 col0\" >0</th>\n",
       "      <th id=\"T_ddaa6_level0_col1\" class=\"col_heading level0 col1\" >1</th>\n",
       "      <th id=\"T_ddaa6_level0_col2\" class=\"col_heading level0 col2\" >2</th>\n",
       "      <th id=\"T_ddaa6_level0_col3\" class=\"col_heading level0 col3\" >3</th>\n",
       "      <th id=\"T_ddaa6_level0_col4\" class=\"col_heading level0 col4\" >4</th>\n",
       "      <th id=\"T_ddaa6_level0_col5\" class=\"col_heading level0 col5\" >5</th>\n",
       "      <th id=\"T_ddaa6_level0_col6\" class=\"col_heading level0 col6\" >6</th>\n",
       "      <th id=\"T_ddaa6_level0_col7\" class=\"col_heading level0 col7\" >7</th>\n",
       "      <th id=\"T_ddaa6_level0_col8\" class=\"col_heading level0 col8\" >8</th>\n",
       "      <th id=\"T_ddaa6_level0_col9\" class=\"col_heading level0 col9\" >9</th>\n",
       "    </tr>\n",
       "  </thead>\n",
       "  <tbody>\n",
       "    <tr>\n",
       "      <th id=\"T_ddaa6_level0_row0\" class=\"row_heading level0 row0\" >0</th>\n",
       "      <td id=\"T_ddaa6_row0_col0\" class=\"data row0 col0\" >98.5 %</td>\n",
       "      <td id=\"T_ddaa6_row0_col1\" class=\"data row0 col1\" >0.0 %</td>\n",
       "      <td id=\"T_ddaa6_row0_col2\" class=\"data row0 col2\" >0.4 %</td>\n",
       "      <td id=\"T_ddaa6_row0_col3\" class=\"data row0 col3\" >0.0 %</td>\n",
       "      <td id=\"T_ddaa6_row0_col4\" class=\"data row0 col4\" >0.3 %</td>\n",
       "      <td id=\"T_ddaa6_row0_col5\" class=\"data row0 col5\" >0.0 %</td>\n",
       "      <td id=\"T_ddaa6_row0_col6\" class=\"data row0 col6\" >0.2 %</td>\n",
       "      <td id=\"T_ddaa6_row0_col7\" class=\"data row0 col7\" >0.2 %</td>\n",
       "      <td id=\"T_ddaa6_row0_col8\" class=\"data row0 col8\" >0.2 %</td>\n",
       "      <td id=\"T_ddaa6_row0_col9\" class=\"data row0 col9\" >0.2 %</td>\n",
       "    </tr>\n",
       "    <tr>\n",
       "      <th id=\"T_ddaa6_level0_row1\" class=\"row_heading level0 row1\" >1</th>\n",
       "      <td id=\"T_ddaa6_row1_col0\" class=\"data row1 col0\" >0.0 %</td>\n",
       "      <td id=\"T_ddaa6_row1_col1\" class=\"data row1 col1\" >99.1 %</td>\n",
       "      <td id=\"T_ddaa6_row1_col2\" class=\"data row1 col2\" >0.3 %</td>\n",
       "      <td id=\"T_ddaa6_row1_col3\" class=\"data row1 col3\" >0.1 %</td>\n",
       "      <td id=\"T_ddaa6_row1_col4\" class=\"data row1 col4\" >0.0 %</td>\n",
       "      <td id=\"T_ddaa6_row1_col5\" class=\"data row1 col5\" >0.1 %</td>\n",
       "      <td id=\"T_ddaa6_row1_col6\" class=\"data row1 col6\" >0.0 %</td>\n",
       "      <td id=\"T_ddaa6_row1_col7\" class=\"data row1 col7\" >0.1 %</td>\n",
       "      <td id=\"T_ddaa6_row1_col8\" class=\"data row1 col8\" >0.4 %</td>\n",
       "      <td id=\"T_ddaa6_row1_col9\" class=\"data row1 col9\" >0.0 %</td>\n",
       "    </tr>\n",
       "    <tr>\n",
       "      <th id=\"T_ddaa6_level0_row2\" class=\"row_heading level0 row2\" >2</th>\n",
       "      <td id=\"T_ddaa6_row2_col0\" class=\"data row2 col0\" >0.3 %</td>\n",
       "      <td id=\"T_ddaa6_row2_col1\" class=\"data row2 col1\" >0.2 %</td>\n",
       "      <td id=\"T_ddaa6_row2_col2\" class=\"data row2 col2\" >98.4 %</td>\n",
       "      <td id=\"T_ddaa6_row2_col3\" class=\"data row2 col3\" >0.2 %</td>\n",
       "      <td id=\"T_ddaa6_row2_col4\" class=\"data row2 col4\" >0.1 %</td>\n",
       "      <td id=\"T_ddaa6_row2_col5\" class=\"data row2 col5\" >0.0 %</td>\n",
       "      <td id=\"T_ddaa6_row2_col6\" class=\"data row2 col6\" >0.0 %</td>\n",
       "      <td id=\"T_ddaa6_row2_col7\" class=\"data row2 col7\" >0.3 %</td>\n",
       "      <td id=\"T_ddaa6_row2_col8\" class=\"data row2 col8\" >0.5 %</td>\n",
       "      <td id=\"T_ddaa6_row2_col9\" class=\"data row2 col9\" >0.0 %</td>\n",
       "    </tr>\n",
       "    <tr>\n",
       "      <th id=\"T_ddaa6_level0_row3\" class=\"row_heading level0 row3\" >3</th>\n",
       "      <td id=\"T_ddaa6_row3_col0\" class=\"data row3 col0\" >0.0 %</td>\n",
       "      <td id=\"T_ddaa6_row3_col1\" class=\"data row3 col1\" >0.0 %</td>\n",
       "      <td id=\"T_ddaa6_row3_col2\" class=\"data row3 col2\" >0.3 %</td>\n",
       "      <td id=\"T_ddaa6_row3_col3\" class=\"data row3 col3\" >98.2 %</td>\n",
       "      <td id=\"T_ddaa6_row3_col4\" class=\"data row3 col4\" >0.0 %</td>\n",
       "      <td id=\"T_ddaa6_row3_col5\" class=\"data row3 col5\" >0.4 %</td>\n",
       "      <td id=\"T_ddaa6_row3_col6\" class=\"data row3 col6\" >0.0 %</td>\n",
       "      <td id=\"T_ddaa6_row3_col7\" class=\"data row3 col7\" >0.4 %</td>\n",
       "      <td id=\"T_ddaa6_row3_col8\" class=\"data row3 col8\" >0.7 %</td>\n",
       "      <td id=\"T_ddaa6_row3_col9\" class=\"data row3 col9\" >0.0 %</td>\n",
       "    </tr>\n",
       "    <tr>\n",
       "      <th id=\"T_ddaa6_level0_row4\" class=\"row_heading level0 row4\" >4</th>\n",
       "      <td id=\"T_ddaa6_row4_col0\" class=\"data row4 col0\" >0.0 %</td>\n",
       "      <td id=\"T_ddaa6_row4_col1\" class=\"data row4 col1\" >0.0 %</td>\n",
       "      <td id=\"T_ddaa6_row4_col2\" class=\"data row4 col2\" >0.1 %</td>\n",
       "      <td id=\"T_ddaa6_row4_col3\" class=\"data row4 col3\" >0.1 %</td>\n",
       "      <td id=\"T_ddaa6_row4_col4\" class=\"data row4 col4\" >98.0 %</td>\n",
       "      <td id=\"T_ddaa6_row4_col5\" class=\"data row4 col5\" >0.0 %</td>\n",
       "      <td id=\"T_ddaa6_row4_col6\" class=\"data row4 col6\" >0.4 %</td>\n",
       "      <td id=\"T_ddaa6_row4_col7\" class=\"data row4 col7\" >0.0 %</td>\n",
       "      <td id=\"T_ddaa6_row4_col8\" class=\"data row4 col8\" >0.0 %</td>\n",
       "      <td id=\"T_ddaa6_row4_col9\" class=\"data row4 col9\" >1.4 %</td>\n",
       "    </tr>\n",
       "    <tr>\n",
       "      <th id=\"T_ddaa6_level0_row5\" class=\"row_heading level0 row5\" >5</th>\n",
       "      <td id=\"T_ddaa6_row5_col0\" class=\"data row5 col0\" >0.3 %</td>\n",
       "      <td id=\"T_ddaa6_row5_col1\" class=\"data row5 col1\" >0.0 %</td>\n",
       "      <td id=\"T_ddaa6_row5_col2\" class=\"data row5 col2\" >0.0 %</td>\n",
       "      <td id=\"T_ddaa6_row5_col3\" class=\"data row5 col3\" >1.6 %</td>\n",
       "      <td id=\"T_ddaa6_row5_col4\" class=\"data row5 col4\" >0.0 %</td>\n",
       "      <td id=\"T_ddaa6_row5_col5\" class=\"data row5 col5\" >96.0 %</td>\n",
       "      <td id=\"T_ddaa6_row5_col6\" class=\"data row5 col6\" >0.2 %</td>\n",
       "      <td id=\"T_ddaa6_row5_col7\" class=\"data row5 col7\" >0.1 %</td>\n",
       "      <td id=\"T_ddaa6_row5_col8\" class=\"data row5 col8\" >1.0 %</td>\n",
       "      <td id=\"T_ddaa6_row5_col9\" class=\"data row5 col9\" >0.8 %</td>\n",
       "    </tr>\n",
       "    <tr>\n",
       "      <th id=\"T_ddaa6_level0_row6\" class=\"row_heading level0 row6\" >6</th>\n",
       "      <td id=\"T_ddaa6_row6_col0\" class=\"data row6 col0\" >0.3 %</td>\n",
       "      <td id=\"T_ddaa6_row6_col1\" class=\"data row6 col1\" >0.1 %</td>\n",
       "      <td id=\"T_ddaa6_row6_col2\" class=\"data row6 col2\" >0.2 %</td>\n",
       "      <td id=\"T_ddaa6_row6_col3\" class=\"data row6 col3\" >0.0 %</td>\n",
       "      <td id=\"T_ddaa6_row6_col4\" class=\"data row6 col4\" >0.5 %</td>\n",
       "      <td id=\"T_ddaa6_row6_col5\" class=\"data row6 col5\" >1.0 %</td>\n",
       "      <td id=\"T_ddaa6_row6_col6\" class=\"data row6 col6\" >97.4 %</td>\n",
       "      <td id=\"T_ddaa6_row6_col7\" class=\"data row6 col7\" >0.0 %</td>\n",
       "      <td id=\"T_ddaa6_row6_col8\" class=\"data row6 col8\" >0.4 %</td>\n",
       "      <td id=\"T_ddaa6_row6_col9\" class=\"data row6 col9\" >0.0 %</td>\n",
       "    </tr>\n",
       "    <tr>\n",
       "      <th id=\"T_ddaa6_level0_row7\" class=\"row_heading level0 row7\" >7</th>\n",
       "      <td id=\"T_ddaa6_row7_col0\" class=\"data row7 col0\" >0.1 %</td>\n",
       "      <td id=\"T_ddaa6_row7_col1\" class=\"data row7 col1\" >0.3 %</td>\n",
       "      <td id=\"T_ddaa6_row7_col2\" class=\"data row7 col2\" >1.0 %</td>\n",
       "      <td id=\"T_ddaa6_row7_col3\" class=\"data row7 col3\" >0.8 %</td>\n",
       "      <td id=\"T_ddaa6_row7_col4\" class=\"data row7 col4\" >0.0 %</td>\n",
       "      <td id=\"T_ddaa6_row7_col5\" class=\"data row7 col5\" >0.0 %</td>\n",
       "      <td id=\"T_ddaa6_row7_col6\" class=\"data row7 col6\" >0.0 %</td>\n",
       "      <td id=\"T_ddaa6_row7_col7\" class=\"data row7 col7\" >96.8 %</td>\n",
       "      <td id=\"T_ddaa6_row7_col8\" class=\"data row7 col8\" >0.2 %</td>\n",
       "      <td id=\"T_ddaa6_row7_col9\" class=\"data row7 col9\" >0.9 %</td>\n",
       "    </tr>\n",
       "    <tr>\n",
       "      <th id=\"T_ddaa6_level0_row8\" class=\"row_heading level0 row8\" >8</th>\n",
       "      <td id=\"T_ddaa6_row8_col0\" class=\"data row8 col0\" >0.6 %</td>\n",
       "      <td id=\"T_ddaa6_row8_col1\" class=\"data row8 col1\" >0.0 %</td>\n",
       "      <td id=\"T_ddaa6_row8_col2\" class=\"data row8 col2\" >0.3 %</td>\n",
       "      <td id=\"T_ddaa6_row8_col3\" class=\"data row8 col3\" >0.3 %</td>\n",
       "      <td id=\"T_ddaa6_row8_col4\" class=\"data row8 col4\" >0.2 %</td>\n",
       "      <td id=\"T_ddaa6_row8_col5\" class=\"data row8 col5\" >0.3 %</td>\n",
       "      <td id=\"T_ddaa6_row8_col6\" class=\"data row8 col6\" >0.0 %</td>\n",
       "      <td id=\"T_ddaa6_row8_col7\" class=\"data row8 col7\" >0.5 %</td>\n",
       "      <td id=\"T_ddaa6_row8_col8\" class=\"data row8 col8\" >97.6 %</td>\n",
       "      <td id=\"T_ddaa6_row8_col9\" class=\"data row8 col9\" >0.1 %</td>\n",
       "    </tr>\n",
       "    <tr>\n",
       "      <th id=\"T_ddaa6_level0_row9\" class=\"row_heading level0 row9\" >9</th>\n",
       "      <td id=\"T_ddaa6_row9_col0\" class=\"data row9 col0\" >0.4 %</td>\n",
       "      <td id=\"T_ddaa6_row9_col1\" class=\"data row9 col1\" >0.2 %</td>\n",
       "      <td id=\"T_ddaa6_row9_col2\" class=\"data row9 col2\" >0.0 %</td>\n",
       "      <td id=\"T_ddaa6_row9_col3\" class=\"data row9 col3\" >1.1 %</td>\n",
       "      <td id=\"T_ddaa6_row9_col4\" class=\"data row9 col4\" >0.3 %</td>\n",
       "      <td id=\"T_ddaa6_row9_col5\" class=\"data row9 col5\" >0.4 %</td>\n",
       "      <td id=\"T_ddaa6_row9_col6\" class=\"data row9 col6\" >0.0 %</td>\n",
       "      <td id=\"T_ddaa6_row9_col7\" class=\"data row9 col7\" >0.5 %</td>\n",
       "      <td id=\"T_ddaa6_row9_col8\" class=\"data row9 col8\" >0.3 %</td>\n",
       "      <td id=\"T_ddaa6_row9_col9\" class=\"data row9 col9\" >96.8 %</td>\n",
       "    </tr>\n",
       "  </tbody>\n",
       "</table>\n"
      ],
      "text/plain": [
       "<pandas.io.formats.style.Styler at 0x2b508cc6e80>"
      ]
     },
     "execution_count": 8,
     "metadata": {},
     "output_type": "execute_result"
    }
   ],
   "source": [
    "Y_classes, Y_probs = cnnet.use(Xtest_cnn)\n",
    "confusion_matrix(Y_classes, Ttest).style.background_gradient(cmap='Blues').format(\"{:.1f} %\")"
   ]
  },
  {
   "cell_type": "markdown",
   "metadata": {},
   "source": [
    "Collecting up all of the elements from the training set that were wrong to try to figure out the threshold for the probabilities. The bad pairs are the two elements that were mistaken. Counting up which elements were misidentified should help in figuring out which specialty networks to train."
   ]
  },
  {
   "cell_type": "code",
   "execution_count": 9,
   "metadata": {},
   "outputs": [],
   "source": [
    "Y_train_classes, Y_train_probs = cnnet.use(Xtrain_cnn)"
   ]
  },
  {
   "cell_type": "markdown",
   "metadata": {},
   "source": [
    "This creates a tuple from two elements, ordering it so that the smaller value is always first in the tuple. Then it goes through the training classifications and the training targets to find the elements that were wrong."
   ]
  },
  {
   "cell_type": "code",
   "execution_count": 10,
   "metadata": {},
   "outputs": [
    {
     "name": "stdout",
     "output_type": "stream",
     "text": [
      "{6269: 0.27839765, 1165: 0.28322762, 1364: 0.33009383, 4153: 0.33100557, 5174: 0.3433973, 3510: 0.3490948, 2676: 0.3558752, 5691: 0.3590338, 1324: 0.36476842, 8883: 0.36655575, 5103: 0.36797512, 444: 0.37196466, 3814: 0.37591013, 3056: 0.37717584, 5065: 0.37772024, 1075: 0.382845, 4600: 0.38796544, 718: 0.39003053, 6418: 0.3926025, 3512: 0.39857143, 6197: 0.39991245, 4156: 0.4001133, 788: 0.404635, 8904: 0.40731013, 8940: 0.42272392, 9727: 0.4323332, 3810: 0.4369039, 1512: 0.43937385, 7074: 0.44329342, 3436: 0.4492829, 5057: 0.4537266, 8268: 0.46508506, 854: 0.46603563, 5013: 0.46665925, 517: 0.4670925, 9098: 0.46788928, 1021: 0.4758728, 4666: 0.47630417, 4945: 0.4774048, 4590: 0.47908595, 9344: 0.4854836, 892: 0.492873, 3998: 0.49552718, 4762: 0.49595678, 995: 0.49661806, 1375: 0.49829897, 4322: 0.49994445, 1244: 0.5007465, 2098: 0.5012209, 4958: 0.502032, 6486: 0.5053558, 5798: 0.50624675, 1137: 0.5070511, 7270: 0.5082915, 4458: 0.51380324, 8202: 0.52018493, 2490: 0.52873385, 80: 0.5289892, 5876: 0.53063184, 5332: 0.53099877, 1032: 0.5316502, 2385: 0.53431755, 9641: 0.5345057, 2502: 0.5373023, 2765: 0.53744996, 4820: 0.54102045, 2831: 0.54511404, 4968: 0.5461098, 7036: 0.546359, 7768: 0.54870236, 8772: 0.55274105, 6066: 0.55304337, 7308: 0.55893946, 9687: 0.5589517, 1784: 0.5660888, 5516: 0.5674521, 6315: 0.5748214, 3719: 0.57692933, 5068: 0.5792091, 4822: 0.5800256, 1047: 0.5800336, 2734: 0.5820493, 4955: 0.5840304, 1239: 0.591687, 8009: 0.593947, 7984: 0.6007542, 8120: 0.6086682, 6250: 0.6121303, 3692: 0.6129025, 8443: 0.61384124, 5554: 0.6175537, 1674: 0.61855024, 1854: 0.619547, 7584: 0.6203384, 3757: 0.6247718, 1222: 0.63646483, 8093: 0.64241797, 9442: 0.6490736, 212: 0.6502189, 7374: 0.6514575, 172: 0.65177, 5659: 0.653646, 1376: 0.6591422, 7732: 0.65997267, 8428: 0.6626056, 7058: 0.66418904, 7264: 0.66468215, 1201: 0.6658957, 7958: 0.66846824, 8898: 0.67001355, 7009: 0.673248, 8966: 0.68376154, 2426: 0.6854385, 6102: 0.68798, 7010: 0.69127405, 2980: 0.702918, 8857: 0.70322293, 4122: 0.7069883, 1053: 0.71165943, 5868: 0.7179693, 1920: 0.7230417, 8480: 0.72750825, 6771: 0.72904193, 4476: 0.73462623, 7898: 0.735643, 7080: 0.7492161, 3095: 0.75442004, 3532: 0.7658706, 2622: 0.7687923, 8849: 0.7780006, 8617: 0.80441153, 9340: 0.8069004, 5718: 0.8098363, 2410: 0.81266516, 3696: 0.8190874, 974: 0.832403, 1352: 0.8324511, 2901: 0.83682597, 132: 0.83685446, 5216: 0.8394896, 8347: 0.8408747, 5821: 0.84521294, 4636: 0.849737, 6448: 0.8510197, 6658: 0.8547264, 5129: 0.86053467, 5896: 0.8619417, 8853: 0.8635689, 8200: 0.86373675, 7994: 0.8656756, 224: 0.8698255, 9534: 0.8726172, 4438: 0.87421876, 1404: 0.879586, 1604: 0.8947044, 4460: 0.9002379, 635: 0.900642, 7851: 0.90883905, 6130: 0.91150093, 9075: 0.9140031, 6848: 0.91968006, 6879: 0.9292479, 6885: 0.937531, 8729: 0.94428724, 500: 0.9456894, 5298: 0.97020537, 494: 0.9790739, 2554: 0.9818378, 1968: 0.9824103, 4935: 0.98871136, 902: 0.99075574, 2720: 0.9915494, 9433: 0.99178445}\n",
      "{(8, 9): 1, (3, 5): 10, (7, 9): 11, (1, 7): 8, (1, 3): 3, (1, 2): 9, (0, 6): 5, (2, 3): 16, (5, 8): 6, (2, 5): 1, (4, 5): 2, (0, 9): 5, (2, 7): 7, (2, 6): 1, (3, 9): 9, (4, 7): 3, (2, 8): 7, (0, 3): 2, (0, 2): 1, (3, 8): 4, (7, 8): 3, (1, 8): 4, (5, 7): 1, (6, 8): 1, (4, 9): 17, (5, 9): 4, (5, 6): 9, (3, 7): 7, (3, 4): 1, (4, 6): 4, (0, 7): 1, (1, 9): 2, (0, 4): 1, (1, 4): 1, (0, 5): 3, (4, 8): 1, (0, 8): 1, (1, 6): 1}\n"
     ]
    }
   ],
   "source": [
    "def tuplefyOrderedPair(x, y):\n",
    "    if x < y:\n",
    "        return (x, y)\n",
    "    else:\n",
    "        return (y, x)\n",
    "\n",
    "wrongs = {}\n",
    "bad_pairs = {}\n",
    "for i in range(Ttest.shape[0]):\n",
    "    if Y_train_classes[i] != Ttrain[i]:\n",
    "        wrongs.update({i:max(Y_train_probs[i])})\n",
    "        pair = tuplefyOrderedPair(Y_train_classes[i], Ttrain[i])\n",
    "        if pair in bad_pairs:\n",
    "            bad_pairs.update({pair: bad_pairs[pair]+1})\n",
    "        else:\n",
    "            bad_pairs.setdefault(pair, 1)\n",
    "\n",
    "print({k: v for k, v in sorted(wrongs.items(), key=lambda item: item[1])})\n",
    "print(bad_pairs)"
   ]
  },
  {
   "cell_type": "markdown",
   "metadata": {},
   "source": [
    "Listing out the most confused pairs of numbers to see if that's a useful reduction in the number of smaller neural networks to train."
   ]
  },
  {
   "cell_type": "code",
   "execution_count": 11,
   "metadata": {},
   "outputs": [
    {
     "name": "stdout",
     "output_type": "stream",
     "text": [
      "{(8, 9): 1, (2, 5): 1, (2, 6): 1, (0, 2): 1, (5, 7): 1, (6, 8): 1, (3, 4): 1, (0, 7): 1, (0, 4): 1, (1, 4): 1, (4, 8): 1, (0, 8): 1, (1, 6): 1, (4, 5): 2, (0, 3): 2, (1, 9): 2, (1, 3): 3, (4, 7): 3, (7, 8): 3, (0, 5): 3, (3, 8): 4, (1, 8): 4, (5, 9): 4, (4, 6): 4, (0, 6): 5, (0, 9): 5, (5, 8): 6, (2, 7): 7, (2, 8): 7, (3, 7): 7, (1, 7): 8, (1, 2): 9, (3, 9): 9, (5, 6): 9, (3, 5): 10, (7, 9): 11, (2, 3): 16, (4, 9): 17}\n"
     ]
    }
   ],
   "source": [
    "asc_bad_pairs = {k: v for k, v in sorted(bad_pairs.items(), key=lambda item: item[1])}\n",
    "print(asc_bad_pairs)"
   ]
  },
  {
   "cell_type": "markdown",
   "metadata": {},
   "source": [
    "Quick visual to see the worst of the worst identifiers."
   ]
  },
  {
   "cell_type": "code",
   "execution_count": 12,
   "metadata": {},
   "outputs": [
    {
     "data": {
      "image/png": "[encoded data removed]",
      "text/plain": [
       "<Figure size 1440x1440 with 10 Axes>"
      ]
     },
     "metadata": {
      "needs_background": "light"
     },
     "output_type": "display_data"
    }
   ],
   "source": [
    "i_w = {k: v for k, v in sorted(wrongs.items(), key=lambda item: item[1])}\n",
    "\n",
    "plt.figure(figsize=(20, 20))\n",
    "count = 0\n",
    "for i in list(i_w):\n",
    "    if wrongs[i] < 90.0 and count < 10:\n",
    "        plt.subplot(1, 10, count + 1)\n",
    "        plt.imshow(-Xtest[i, :].reshape(28, 28), cmap='gray')\n",
    "        title = f\"{Y_classes[i]}: {wrongs[i]*100:.2f}% {Ttest[i]}\"\n",
    "        plt.title(title)\n",
    "        plt.axis('off');\n",
    "        count += 1"
   ]
  },
  {
   "cell_type": "markdown",
   "metadata": {},
   "source": [
    "Creating a dictionary set of classifiers that each will train with the specified pairs of confused items."
   ]
  },
  {
   "cell_type": "code",
   "execution_count": 13,
   "metadata": {},
   "outputs": [],
   "source": [
    "def createCnets(asc_bad_pairs, device):\n",
    "    ccnets = {}\n",
    "    for i in asc_bad_pairs:\n",
    "        ccnets.update({i: nn.ConvNet(28 * 28,\n",
    "                    [28, 28], # n_hiddens_per_conv_layer\n",
    "                    [10], # n_hiddens_per_fc_layer\n",
    "                    10,\n",
    "                    patch_size_per_conv_layer=[5, 5], stride_per_conv_layer=[2, 2], device=device)})\n",
    "        ccnets[i].to(device)\n",
    "    return ccnets\n",
    "\n",
    "ccnets = createCnets(asc_bad_pairs, device)"
   ]
  },
  {
   "cell_type": "markdown",
   "metadata": {},
   "source": [
    "Figuring out how to shape the data for training."
   ]
  },
  {
   "cell_type": "code",
   "execution_count": 14,
   "metadata": {},
   "outputs": [
    {
     "name": "stdout",
     "output_type": "stream",
     "text": [
      "(4932, 784)\n",
      "(5678, 784)\n",
      "(10610, 784)\n",
      "10610\n"
     ]
    }
   ],
   "source": [
    "Xtrain_0s = Xtrain[Ttrain == 0]\n",
    "print(Xtrain_0s.shape)\n",
    "Xtrain_1s = Xtrain[Ttrain == 1]\n",
    "print(Xtrain_1s.shape)\n",
    "Xtrain_01s = np.concatenate( (Xtrain[Ttrain == 0], Xtrain[Ttrain == 1]), axis=0 )\n",
    "print(Xtrain_01s.shape)\n",
    "print(Xtrain_0s.shape[0] + Xtrain_1s.shape[0])\n",
    "\n"
   ]
  },
  {
   "cell_type": "markdown",
   "metadata": {},
   "source": [
    "Getting just the elements from the training set that were wrong. I wanted to try training on just these elements to see if it produced any meaningful classifiers, but the data set for this was too small to reliably produce a network that could classify things, which doesn't help my overall goal and doesn't help me test."
   ]
  },
  {
   "cell_type": "code",
   "execution_count": 15,
   "metadata": {},
   "outputs": [],
   "source": [
    "Xtrain_wrongs = np.array([Xtrain[x] for x in wrongs.keys()])\n",
    "Ttrain_wrongs = np.array([Ttrain[x] for x in wrongs.keys()])\n"
   ]
  },
  {
   "cell_type": "code",
   "execution_count": 16,
   "metadata": {},
   "outputs": [
    {
     "name": "stdout",
     "output_type": "stream",
     "text": [
      "(173, 784)\n",
      "(173,)\n"
     ]
    }
   ],
   "source": [
    "print(Xtrain_wrongs.shape)\n",
    "print(Ttrain_wrongs.shape)\n"
   ]
  },
  {
   "cell_type": "markdown",
   "metadata": {},
   "source": [
    "I'm creating a series of networks here that only discern between two elements. The idea is that it should figure out if something is one element or the other more reliably than the full neural network because it only trains on those specific things. When creating the convolutional training function, I added a limit on the loss so that if it was able to get to less than a certain loss number, it would stop running. This should prevent over-fitting, but also reduce the length of time it takes to train each network. Because of how complicated I've made these networks, they take a long time to train anyway, so having an early stop ensures that networks that need longer, can have longer, while networks that don't need as long can end earlier."
   ]
  },
  {
   "cell_type": "code",
   "execution_count": 17,
   "metadata": {},
   "outputs": [
    {
     "name": "stdout",
     "output_type": "stream",
     "text": [
      "(8, 9)\n",
      "adam: Epoch 100 Loss 0.046\n",
      "adam: Epoch 200 Loss 0.012\n",
      "adam: Epoch 300 Loss 0.006\n",
      "adam: Epoch 325 Loss 0.005\n",
      "(2, 5)\n",
      "adam: Epoch 100 Loss 0.038\n",
      "adam: Epoch 200 Loss 0.012\n",
      "adam: Epoch 300 Loss 0.005\n",
      "adam: Epoch 309 Loss 0.005\n",
      "(2, 6)\n",
      "adam: Epoch 100 Loss 0.040\n",
      "adam: Epoch 200 Loss 0.011\n",
      "adam: Epoch 300 Loss 0.005\n",
      "adam: Epoch 302 Loss 0.005\n",
      "(0, 2)\n",
      "adam: Epoch 100 Loss 0.031\n",
      "adam: Epoch 200 Loss 0.009\n",
      "adam: Epoch 268 Loss 0.005\n",
      "(5, 7)\n",
      "adam: Epoch 100 Loss 0.028\n",
      "adam: Epoch 200 Loss 0.008\n",
      "adam: Epoch 252 Loss 0.005\n",
      "(6, 8)\n",
      "adam: Epoch 100 Loss 0.043\n",
      "adam: Epoch 200 Loss 0.011\n",
      "adam: Epoch 294 Loss 0.005\n",
      "(3, 4)\n",
      "adam: Epoch 100 Loss 0.027\n",
      "adam: Epoch 200 Loss 0.008\n",
      "adam: Epoch 261 Loss 0.005\n",
      "(0, 7)\n",
      "adam: Epoch 100 Loss 0.028\n",
      "adam: Epoch 200 Loss 0.008\n",
      "adam: Epoch 258 Loss 0.005\n",
      "(0, 4)\n",
      "adam: Epoch 100 Loss 0.043\n",
      "adam: Epoch 200 Loss 0.013\n",
      "adam: Epoch 300 Loss 0.006\n",
      "adam: Epoch 332 Loss 0.005\n",
      "(1, 4)\n",
      "adam: Epoch 100 Loss 0.046\n",
      "adam: Epoch 200 Loss 0.014\n",
      "adam: Epoch 300 Loss 0.007\n",
      "adam: Epoch 365 Loss 0.005\n",
      "(4, 8)\n",
      "adam: Epoch 100 Loss 0.029\n",
      "adam: Epoch 200 Loss 0.008\n",
      "adam: Epoch 257 Loss 0.005\n",
      "(0, 8)\n",
      "adam: Epoch 100 Loss 0.031\n",
      "adam: Epoch 200 Loss 0.009\n",
      "adam: Epoch 276 Loss 0.005\n",
      "(1, 6)\n",
      "adam: Epoch 100 Loss 0.021\n",
      "adam: Epoch 200 Loss 0.006\n",
      "adam: Epoch 224 Loss 0.005\n",
      "(4, 5)\n",
      "adam: Epoch 100 Loss 0.026\n",
      "adam: Epoch 200 Loss 0.007\n",
      "adam: Epoch 247 Loss 0.005\n",
      "(0, 3)\n",
      "adam: Epoch 100 Loss 0.026\n",
      "adam: Epoch 200 Loss 0.007\n",
      "adam: Epoch 246 Loss 0.005\n",
      "(1, 9)\n",
      "adam: Epoch 100 Loss 0.027\n",
      "adam: Epoch 200 Loss 0.008\n",
      "adam: Epoch 261 Loss 0.005\n",
      "(1, 3)\n",
      "adam: Epoch 100 Loss 0.042\n",
      "adam: Epoch 200 Loss 0.011\n",
      "adam: Epoch 300 Loss 0.005\n",
      "adam: Epoch 316 Loss 0.005\n",
      "(4, 7)\n",
      "adam: Epoch 100 Loss 0.040\n",
      "adam: Epoch 200 Loss 0.010\n",
      "adam: Epoch 283 Loss 0.005\n",
      "(7, 8)\n",
      "adam: Epoch 100 Loss 0.037\n",
      "adam: Epoch 200 Loss 0.011\n",
      "adam: Epoch 300 Loss 0.005\n",
      "adam: Epoch 305 Loss 0.005\n",
      "(0, 5)\n",
      "adam: Epoch 100 Loss 0.030\n",
      "adam: Epoch 200 Loss 0.008\n",
      "adam: Epoch 254 Loss 0.005\n",
      "(3, 8)\n",
      "adam: Epoch 100 Loss 0.045\n",
      "adam: Epoch 200 Loss 0.010\n",
      "adam: Epoch 283 Loss 0.005\n",
      "(1, 8)\n",
      "adam: Epoch 100 Loss 0.104\n",
      "adam: Epoch 200 Loss 0.031\n",
      "adam: Epoch 300 Loss 0.012\n",
      "adam: Epoch 400 Loss 0.006\n",
      "adam: Epoch 421 Loss 0.005\n",
      "(5, 9)\n",
      "adam: Epoch 100 Loss 0.036\n",
      "adam: Epoch 200 Loss 0.010\n",
      "adam: Epoch 288 Loss 0.005\n",
      "(4, 6)\n",
      "adam: Epoch 100 Loss 0.029\n",
      "adam: Epoch 200 Loss 0.008\n",
      "adam: Epoch 261 Loss 0.005\n",
      "(0, 6)\n",
      "adam: Epoch 100 Loss 0.048\n",
      "adam: Epoch 200 Loss 0.013\n",
      "adam: Epoch 300 Loss 0.006\n",
      "adam: Epoch 318 Loss 0.005\n",
      "(0, 9)\n",
      "adam: Epoch 100 Loss 0.050\n",
      "adam: Epoch 200 Loss 0.015\n",
      "adam: Epoch 300 Loss 0.007\n",
      "adam: Epoch 380 Loss 0.005\n",
      "(5, 8)\n",
      "adam: Epoch 100 Loss 0.032\n",
      "adam: Epoch 200 Loss 0.008\n",
      "adam: Epoch 258 Loss 0.005\n",
      "(2, 7)\n",
      "adam: Epoch 100 Loss 0.035\n",
      "adam: Epoch 200 Loss 0.010\n",
      "adam: Epoch 300 Loss 0.005\n",
      "adam: Epoch 328 Loss 0.005\n",
      "(2, 8)\n",
      "adam: Epoch 100 Loss 0.060\n",
      "adam: Epoch 200 Loss 0.015\n",
      "adam: Epoch 300 Loss 0.006\n",
      "adam: Epoch 337 Loss 0.005\n",
      "(3, 7)\n",
      "adam: Epoch 100 Loss 0.061\n",
      "adam: Epoch 200 Loss 0.016\n",
      "adam: Epoch 300 Loss 0.007\n",
      "adam: Epoch 364 Loss 0.005\n",
      "(1, 7)\n",
      "adam: Epoch 100 Loss 0.034\n",
      "adam: Epoch 200 Loss 0.010\n",
      "adam: Epoch 271 Loss 0.005\n",
      "(1, 2)\n",
      "adam: Epoch 100 Loss 0.058\n",
      "adam: Epoch 200 Loss 0.019\n",
      "adam: Epoch 300 Loss 0.009\n",
      "adam: Epoch 400 Loss 0.006\n",
      "adam: Epoch 468 Loss 0.005\n",
      "(3, 9)\n",
      "adam: Epoch 100 Loss 0.033\n",
      "adam: Epoch 200 Loss 0.008\n",
      "adam: Epoch 250 Loss 0.005\n",
      "(5, 6)\n",
      "adam: Epoch 100 Loss 0.038\n",
      "adam: Epoch 200 Loss 0.010\n",
      "adam: Epoch 280 Loss 0.005\n",
      "(3, 5)\n",
      "adam: Epoch 100 Loss 0.033\n",
      "adam: Epoch 200 Loss 0.008\n",
      "adam: Epoch 256 Loss 0.005\n",
      "(7, 9)\n",
      "adam: Epoch 100 Loss 0.046\n",
      "adam: Epoch 200 Loss 0.012\n",
      "adam: Epoch 300 Loss 0.005\n",
      "adam: Epoch 304 Loss 0.005\n",
      "(2, 3)\n",
      "adam: Epoch 100 Loss 0.036\n",
      "adam: Epoch 200 Loss 0.009\n",
      "adam: Epoch 274 Loss 0.005\n",
      "(4, 9)\n",
      "adam: Epoch 100 Loss 0.047\n",
      "adam: Epoch 200 Loss 0.011\n",
      "adam: Epoch 289 Loss 0.005\n",
      "Took 10.78 minutes to train all of the smaller networks\n"
     ]
    }
   ],
   "source": [
    "\n",
    "n_epochs = 1000\n",
    "learning_rate = 0.001\n",
    "\n",
    "start_time = time.time()\n",
    "\n",
    "for i in list(asc_bad_pairs.keys()):\n",
    "    print(i)\n",
    "    # subnetXtr = np.concatenate( (Xtrain_wrongs[Ttrain_wrongs == i[0]], Xtrain_wrongs[Ttrain_wrongs == i[1]]), axis=0 )\n",
    "    # subnetTtr = np.concatenate( (Ttrain_wrongs[Ttrain_wrongs == i[0]], Ttrain_wrongs[Ttrain_wrongs == i[1]]), axis=0 )\n",
    "    subnetXtr = np.concatenate( (Xtrain[Ttrain == i[0]], Xtrain[Ttrain == i[1]]), axis=0 )\n",
    "    subnetTtr = np.concatenate( (Ttrain[Ttrain == i[0]], Ttrain[Ttrain == i[1]]), axis=0 )\n",
    "    subnetXtr_cnn = subnetXtr.reshape(-1, 1, 28, 28)\n",
    "    subnetTtr[subnetTtr == i[0]] = 0\n",
    "    subnetTtr[subnetTtr == i[1]] = 1\n",
    "    ccnets[i].train(subnetXtr_cnn, subnetTtr, subnetXtr.shape[0] // 10 if subnetXtr.shape[0] > 10 else subnetXtr.shape[0], n_epochs, learning_rate, method='adam', stop_error=0.0049)\n",
    "\n",
    "elapsed_time = time.time() - start_time\n",
    "\n",
    "print(f'Took {elapsed_time/60:0.2f} minutes to train all of the smaller networks')\n"
   ]
  },
  {
   "cell_type": "code",
   "execution_count": 18,
   "metadata": {},
   "outputs": [
    {
     "name": "stdout",
     "output_type": "stream",
     "text": [
      "[(8, 9), (2, 5), (2, 6), (0, 2), (5, 7), (6, 8), (3, 4), (0, 7), (0, 4), (1, 4), (4, 8), (0, 8), (1, 6), (4, 5), (0, 3), (1, 9), (1, 3), (4, 7), (7, 8), (0, 5), (3, 8), (1, 8), (5, 9), (4, 6), (0, 6), (0, 9), (5, 8), (2, 7), (2, 8), (3, 7), (1, 7), (1, 2), (3, 9), (5, 6), (3, 5), (7, 9), (2, 3), (4, 9)]\n"
     ]
    }
   ],
   "source": [
    "print(list(asc_bad_pairs.keys()))"
   ]
  },
  {
   "cell_type": "markdown",
   "metadata": {},
   "source": [
    "Using the test data to see if the networks trained on the training data perform as expected."
   ]
  },
  {
   "cell_type": "code",
   "execution_count": 19,
   "metadata": {},
   "outputs": [
    {
     "name": "stdout",
     "output_type": "stream",
     "text": [
      "(1991, 1, 28, 28)\n"
     ]
    }
   ],
   "source": [
    "Xtest_bad_pair = np.concatenate( (Xtest[Ttest == 4], Xtest[Ttest == 9]), axis=0 )\n",
    "Ttest_bad_pair = np.concatenate( (Ttest[Ttest == 4], Ttest[Ttest == 9]), axis=0 )\n",
    "Xtest_bad_pair_cnn = Xtest_bad_pair.reshape(-1, 1, 28, 28)\n",
    "print(Xtest_bad_pair_cnn.shape)"
   ]
  },
  {
   "cell_type": "code",
   "execution_count": 20,
   "metadata": {},
   "outputs": [
    {
     "name": "stdout",
     "output_type": "stream",
     "text": [
      "ConvNet(\n",
      "  (conv_layers): ModuleList(\n",
      "    (0): Conv2d(1, 28, kernel_size=(5, 5), stride=(2, 2))\n",
      "    (1): Conv2d(28, 28, kernel_size=(5, 5), stride=(2, 2))\n",
      "  )\n",
      "  (fc_layers): ModuleList(\n",
      "    (0): Linear(in_features=448, out_features=10, bias=True)\n",
      "    (1): Linear(in_features=10, out_features=10, bias=True)\n",
      "  )\n",
      ")\n"
     ]
    }
   ],
   "source": [
    "testNet = ccnets[(4,9)]\n",
    "print(testNet)"
   ]
  },
  {
   "cell_type": "markdown",
   "metadata": {},
   "source": [
    "Because of the way the networks work, they return classifications based on which element, not on the value of the elements, so I have to convert them from element 0 and 1 back to the correct identifier. This isn't a problem in the MNIST data set but will likely be an issue in other data sets that have string labels instead of numerical labels."
   ]
  },
  {
   "cell_type": "code",
   "execution_count": 21,
   "metadata": {},
   "outputs": [],
   "source": [
    "fournine_classes, fournine_probs = testNet.use(Xtest_bad_pair_cnn)\n",
    "\n",
    "fournine_classes[fournine_classes == 0] = 4\n",
    "fournine_classes[fournine_classes == 1] = 9"
   ]
  },
  {
   "cell_type": "markdown",
   "metadata": {},
   "source": [
    "This is a really weird result. It correctly identifies 4s as 4s 99ish% of the time and 9s as 9s 99ish% of the time. The whole point of this is to correctly discern between them and it makes me wonder."
   ]
  },
  {
   "cell_type": "code",
   "execution_count": 22,
   "metadata": {},
   "outputs": [
    {
     "data": {
      "text/html": [
       "<style type=\"text/css\">\n",
       "#T_b4a9b_row0_col0, #T_b4a9b_row1_col1 {\n",
       "  background-color: #08306b;\n",
       "  color: #f1f1f1;\n",
       "}\n",
       "#T_b4a9b_row0_col1, #T_b4a9b_row1_col0 {\n",
       "  background-color: #f7fbff;\n",
       "  color: #000000;\n",
       "}\n",
       "</style>\n",
       "<table id=\"T_b4a9b\">\n",
       "  <thead>\n",
       "    <tr>\n",
       "      <th class=\"blank level0\" >&nbsp;</th>\n",
       "      <th id=\"T_b4a9b_level0_col0\" class=\"col_heading level0 col0\" >4</th>\n",
       "      <th id=\"T_b4a9b_level0_col1\" class=\"col_heading level0 col1\" >9</th>\n",
       "    </tr>\n",
       "  </thead>\n",
       "  <tbody>\n",
       "    <tr>\n",
       "      <th id=\"T_b4a9b_level0_row0\" class=\"row_heading level0 row0\" >4</th>\n",
       "      <td id=\"T_b4a9b_row0_col0\" class=\"data row0 col0\" >99.2 %</td>\n",
       "      <td id=\"T_b4a9b_row0_col1\" class=\"data row0 col1\" >0.8 %</td>\n",
       "    </tr>\n",
       "    <tr>\n",
       "      <th id=\"T_b4a9b_level0_row1\" class=\"row_heading level0 row1\" >9</th>\n",
       "      <td id=\"T_b4a9b_row1_col0\" class=\"data row1 col0\" >0.9 %</td>\n",
       "      <td id=\"T_b4a9b_row1_col1\" class=\"data row1 col1\" >99.1 %</td>\n",
       "    </tr>\n",
       "  </tbody>\n",
       "</table>\n"
      ],
      "text/plain": [
       "<pandas.io.formats.style.Styler at 0x2b58ea44b20>"
      ]
     },
     "execution_count": 22,
     "metadata": {},
     "output_type": "execute_result"
    }
   ],
   "source": [
    "confusion_matrix(fournine_classes, Ttest_bad_pair).style.background_gradient(cmap='Blues').format(\"{:.1f} %\")"
   ]
  },
  {
   "cell_type": "code",
   "execution_count": 23,
   "metadata": {},
   "outputs": [
    {
     "name": "stdout",
     "output_type": "stream",
     "text": [
      "(976,)\n"
     ]
    }
   ],
   "source": [
    "print(Y_classes[Y_classes == 4].shape)"
   ]
  },
  {
   "cell_type": "code",
   "execution_count": 24,
   "metadata": {},
   "outputs": [
    {
     "data": {
      "text/html": [
       "<style type=\"text/css\">\n",
       "#T_31c38_row0_col0, #T_31c38_row1_col1, #T_31c38_row2_col2, #T_31c38_row3_col3, #T_31c38_row4_col4, #T_31c38_row5_col5, #T_31c38_row6_col6, #T_31c38_row7_col7, #T_31c38_row8_col8, #T_31c38_row9_col9 {\n",
       "  background-color: #08306b;\n",
       "  color: #f1f1f1;\n",
       "}\n",
       "#T_31c38_row0_col1, #T_31c38_row0_col3, #T_31c38_row0_col4, #T_31c38_row0_col5, #T_31c38_row0_col6, #T_31c38_row0_col7, #T_31c38_row0_col8, #T_31c38_row0_col9, #T_31c38_row1_col0, #T_31c38_row1_col2, #T_31c38_row1_col3, #T_31c38_row1_col4, #T_31c38_row1_col5, #T_31c38_row1_col6, #T_31c38_row1_col7, #T_31c38_row1_col8, #T_31c38_row1_col9, #T_31c38_row2_col0, #T_31c38_row2_col1, #T_31c38_row2_col3, #T_31c38_row2_col4, #T_31c38_row2_col5, #T_31c38_row2_col6, #T_31c38_row2_col7, #T_31c38_row2_col9, #T_31c38_row3_col0, #T_31c38_row3_col1, #T_31c38_row3_col2, #T_31c38_row3_col4, #T_31c38_row3_col6, #T_31c38_row3_col9, #T_31c38_row4_col0, #T_31c38_row4_col1, #T_31c38_row4_col2, #T_31c38_row4_col3, #T_31c38_row4_col5, #T_31c38_row4_col7, #T_31c38_row4_col8, #T_31c38_row5_col0, #T_31c38_row5_col1, #T_31c38_row5_col2, #T_31c38_row5_col4, #T_31c38_row5_col6, #T_31c38_row5_col7, #T_31c38_row6_col0, #T_31c38_row6_col1, #T_31c38_row6_col2, #T_31c38_row6_col3, #T_31c38_row6_col7, #T_31c38_row6_col9, #T_31c38_row7_col0, #T_31c38_row7_col1, #T_31c38_row7_col4, #T_31c38_row7_col5, #T_31c38_row7_col6, #T_31c38_row7_col8, #T_31c38_row8_col1, #T_31c38_row8_col2, #T_31c38_row8_col3, #T_31c38_row8_col4, #T_31c38_row8_col5, #T_31c38_row8_col6, #T_31c38_row8_col9, #T_31c38_row9_col1, #T_31c38_row9_col2, #T_31c38_row9_col4, #T_31c38_row9_col6, #T_31c38_row9_col8 {\n",
       "  background-color: #f7fbff;\n",
       "  color: #000000;\n",
       "}\n",
       "#T_31c38_row0_col2, #T_31c38_row2_col8, #T_31c38_row3_col5, #T_31c38_row3_col7, #T_31c38_row3_col8, #T_31c38_row4_col6, #T_31c38_row6_col4, #T_31c38_row6_col8, #T_31c38_row8_col0, #T_31c38_row8_col7, #T_31c38_row9_col0, #T_31c38_row9_col5, #T_31c38_row9_col7 {\n",
       "  background-color: #f6faff;\n",
       "  color: #000000;\n",
       "}\n",
       "#T_31c38_row4_col9 {\n",
       "  background-color: #f5f9fe;\n",
       "  color: #000000;\n",
       "}\n",
       "#T_31c38_row5_col3 {\n",
       "  background-color: #f4f9fe;\n",
       "  color: #000000;\n",
       "}\n",
       "#T_31c38_row5_col8, #T_31c38_row5_col9, #T_31c38_row6_col5, #T_31c38_row7_col2, #T_31c38_row7_col3, #T_31c38_row7_col9, #T_31c38_row9_col3 {\n",
       "  background-color: #f5fafe;\n",
       "  color: #000000;\n",
       "}\n",
       "</style>\n",
       "<table id=\"T_31c38\">\n",
       "  <thead>\n",
       "    <tr>\n",
       "      <th class=\"blank level0\" >&nbsp;</th>\n",
       "      <th id=\"T_31c38_level0_col0\" class=\"col_heading level0 col0\" >0</th>\n",
       "      <th id=\"T_31c38_level0_col1\" class=\"col_heading level0 col1\" >1</th>\n",
       "      <th id=\"T_31c38_level0_col2\" class=\"col_heading level0 col2\" >2</th>\n",
       "      <th id=\"T_31c38_level0_col3\" class=\"col_heading level0 col3\" >3</th>\n",
       "      <th id=\"T_31c38_level0_col4\" class=\"col_heading level0 col4\" >4</th>\n",
       "      <th id=\"T_31c38_level0_col5\" class=\"col_heading level0 col5\" >5</th>\n",
       "      <th id=\"T_31c38_level0_col6\" class=\"col_heading level0 col6\" >6</th>\n",
       "      <th id=\"T_31c38_level0_col7\" class=\"col_heading level0 col7\" >7</th>\n",
       "      <th id=\"T_31c38_level0_col8\" class=\"col_heading level0 col8\" >8</th>\n",
       "      <th id=\"T_31c38_level0_col9\" class=\"col_heading level0 col9\" >9</th>\n",
       "    </tr>\n",
       "  </thead>\n",
       "  <tbody>\n",
       "    <tr>\n",
       "      <th id=\"T_31c38_level0_row0\" class=\"row_heading level0 row0\" >0</th>\n",
       "      <td id=\"T_31c38_row0_col0\" class=\"data row0 col0\" >98.5 %</td>\n",
       "      <td id=\"T_31c38_row0_col1\" class=\"data row0 col1\" >0.0 %</td>\n",
       "      <td id=\"T_31c38_row0_col2\" class=\"data row0 col2\" >0.4 %</td>\n",
       "      <td id=\"T_31c38_row0_col3\" class=\"data row0 col3\" >0.0 %</td>\n",
       "      <td id=\"T_31c38_row0_col4\" class=\"data row0 col4\" >0.3 %</td>\n",
       "      <td id=\"T_31c38_row0_col5\" class=\"data row0 col5\" >0.0 %</td>\n",
       "      <td id=\"T_31c38_row0_col6\" class=\"data row0 col6\" >0.2 %</td>\n",
       "      <td id=\"T_31c38_row0_col7\" class=\"data row0 col7\" >0.2 %</td>\n",
       "      <td id=\"T_31c38_row0_col8\" class=\"data row0 col8\" >0.2 %</td>\n",
       "      <td id=\"T_31c38_row0_col9\" class=\"data row0 col9\" >0.2 %</td>\n",
       "    </tr>\n",
       "    <tr>\n",
       "      <th id=\"T_31c38_level0_row1\" class=\"row_heading level0 row1\" >1</th>\n",
       "      <td id=\"T_31c38_row1_col0\" class=\"data row1 col0\" >0.0 %</td>\n",
       "      <td id=\"T_31c38_row1_col1\" class=\"data row1 col1\" >99.1 %</td>\n",
       "      <td id=\"T_31c38_row1_col2\" class=\"data row1 col2\" >0.3 %</td>\n",
       "      <td id=\"T_31c38_row1_col3\" class=\"data row1 col3\" >0.1 %</td>\n",
       "      <td id=\"T_31c38_row1_col4\" class=\"data row1 col4\" >0.0 %</td>\n",
       "      <td id=\"T_31c38_row1_col5\" class=\"data row1 col5\" >0.1 %</td>\n",
       "      <td id=\"T_31c38_row1_col6\" class=\"data row1 col6\" >0.0 %</td>\n",
       "      <td id=\"T_31c38_row1_col7\" class=\"data row1 col7\" >0.1 %</td>\n",
       "      <td id=\"T_31c38_row1_col8\" class=\"data row1 col8\" >0.4 %</td>\n",
       "      <td id=\"T_31c38_row1_col9\" class=\"data row1 col9\" >0.0 %</td>\n",
       "    </tr>\n",
       "    <tr>\n",
       "      <th id=\"T_31c38_level0_row2\" class=\"row_heading level0 row2\" >2</th>\n",
       "      <td id=\"T_31c38_row2_col0\" class=\"data row2 col0\" >0.3 %</td>\n",
       "      <td id=\"T_31c38_row2_col1\" class=\"data row2 col1\" >0.2 %</td>\n",
       "      <td id=\"T_31c38_row2_col2\" class=\"data row2 col2\" >98.4 %</td>\n",
       "      <td id=\"T_31c38_row2_col3\" class=\"data row2 col3\" >0.2 %</td>\n",
       "      <td id=\"T_31c38_row2_col4\" class=\"data row2 col4\" >0.1 %</td>\n",
       "      <td id=\"T_31c38_row2_col5\" class=\"data row2 col5\" >0.0 %</td>\n",
       "      <td id=\"T_31c38_row2_col6\" class=\"data row2 col6\" >0.0 %</td>\n",
       "      <td id=\"T_31c38_row2_col7\" class=\"data row2 col7\" >0.3 %</td>\n",
       "      <td id=\"T_31c38_row2_col8\" class=\"data row2 col8\" >0.5 %</td>\n",
       "      <td id=\"T_31c38_row2_col9\" class=\"data row2 col9\" >0.0 %</td>\n",
       "    </tr>\n",
       "    <tr>\n",
       "      <th id=\"T_31c38_level0_row3\" class=\"row_heading level0 row3\" >3</th>\n",
       "      <td id=\"T_31c38_row3_col0\" class=\"data row3 col0\" >0.0 %</td>\n",
       "      <td id=\"T_31c38_row3_col1\" class=\"data row3 col1\" >0.0 %</td>\n",
       "      <td id=\"T_31c38_row3_col2\" class=\"data row3 col2\" >0.3 %</td>\n",
       "      <td id=\"T_31c38_row3_col3\" class=\"data row3 col3\" >98.2 %</td>\n",
       "      <td id=\"T_31c38_row3_col4\" class=\"data row3 col4\" >0.0 %</td>\n",
       "      <td id=\"T_31c38_row3_col5\" class=\"data row3 col5\" >0.4 %</td>\n",
       "      <td id=\"T_31c38_row3_col6\" class=\"data row3 col6\" >0.0 %</td>\n",
       "      <td id=\"T_31c38_row3_col7\" class=\"data row3 col7\" >0.4 %</td>\n",
       "      <td id=\"T_31c38_row3_col8\" class=\"data row3 col8\" >0.7 %</td>\n",
       "      <td id=\"T_31c38_row3_col9\" class=\"data row3 col9\" >0.0 %</td>\n",
       "    </tr>\n",
       "    <tr>\n",
       "      <th id=\"T_31c38_level0_row4\" class=\"row_heading level0 row4\" >4</th>\n",
       "      <td id=\"T_31c38_row4_col0\" class=\"data row4 col0\" >0.0 %</td>\n",
       "      <td id=\"T_31c38_row4_col1\" class=\"data row4 col1\" >0.0 %</td>\n",
       "      <td id=\"T_31c38_row4_col2\" class=\"data row4 col2\" >0.1 %</td>\n",
       "      <td id=\"T_31c38_row4_col3\" class=\"data row4 col3\" >0.1 %</td>\n",
       "      <td id=\"T_31c38_row4_col4\" class=\"data row4 col4\" >98.0 %</td>\n",
       "      <td id=\"T_31c38_row4_col5\" class=\"data row4 col5\" >0.0 %</td>\n",
       "      <td id=\"T_31c38_row4_col6\" class=\"data row4 col6\" >0.4 %</td>\n",
       "      <td id=\"T_31c38_row4_col7\" class=\"data row4 col7\" >0.0 %</td>\n",
       "      <td id=\"T_31c38_row4_col8\" class=\"data row4 col8\" >0.0 %</td>\n",
       "      <td id=\"T_31c38_row4_col9\" class=\"data row4 col9\" >1.4 %</td>\n",
       "    </tr>\n",
       "    <tr>\n",
       "      <th id=\"T_31c38_level0_row5\" class=\"row_heading level0 row5\" >5</th>\n",
       "      <td id=\"T_31c38_row5_col0\" class=\"data row5 col0\" >0.3 %</td>\n",
       "      <td id=\"T_31c38_row5_col1\" class=\"data row5 col1\" >0.0 %</td>\n",
       "      <td id=\"T_31c38_row5_col2\" class=\"data row5 col2\" >0.0 %</td>\n",
       "      <td id=\"T_31c38_row5_col3\" class=\"data row5 col3\" >1.6 %</td>\n",
       "      <td id=\"T_31c38_row5_col4\" class=\"data row5 col4\" >0.0 %</td>\n",
       "      <td id=\"T_31c38_row5_col5\" class=\"data row5 col5\" >96.0 %</td>\n",
       "      <td id=\"T_31c38_row5_col6\" class=\"data row5 col6\" >0.2 %</td>\n",
       "      <td id=\"T_31c38_row5_col7\" class=\"data row5 col7\" >0.1 %</td>\n",
       "      <td id=\"T_31c38_row5_col8\" class=\"data row5 col8\" >1.0 %</td>\n",
       "      <td id=\"T_31c38_row5_col9\" class=\"data row5 col9\" >0.8 %</td>\n",
       "    </tr>\n",
       "    <tr>\n",
       "      <th id=\"T_31c38_level0_row6\" class=\"row_heading level0 row6\" >6</th>\n",
       "      <td id=\"T_31c38_row6_col0\" class=\"data row6 col0\" >0.3 %</td>\n",
       "      <td id=\"T_31c38_row6_col1\" class=\"data row6 col1\" >0.1 %</td>\n",
       "      <td id=\"T_31c38_row6_col2\" class=\"data row6 col2\" >0.2 %</td>\n",
       "      <td id=\"T_31c38_row6_col3\" class=\"data row6 col3\" >0.0 %</td>\n",
       "      <td id=\"T_31c38_row6_col4\" class=\"data row6 col4\" >0.5 %</td>\n",
       "      <td id=\"T_31c38_row6_col5\" class=\"data row6 col5\" >1.0 %</td>\n",
       "      <td id=\"T_31c38_row6_col6\" class=\"data row6 col6\" >97.4 %</td>\n",
       "      <td id=\"T_31c38_row6_col7\" class=\"data row6 col7\" >0.0 %</td>\n",
       "      <td id=\"T_31c38_row6_col8\" class=\"data row6 col8\" >0.4 %</td>\n",
       "      <td id=\"T_31c38_row6_col9\" class=\"data row6 col9\" >0.0 %</td>\n",
       "    </tr>\n",
       "    <tr>\n",
       "      <th id=\"T_31c38_level0_row7\" class=\"row_heading level0 row7\" >7</th>\n",
       "      <td id=\"T_31c38_row7_col0\" class=\"data row7 col0\" >0.1 %</td>\n",
       "      <td id=\"T_31c38_row7_col1\" class=\"data row7 col1\" >0.3 %</td>\n",
       "      <td id=\"T_31c38_row7_col2\" class=\"data row7 col2\" >1.0 %</td>\n",
       "      <td id=\"T_31c38_row7_col3\" class=\"data row7 col3\" >0.8 %</td>\n",
       "      <td id=\"T_31c38_row7_col4\" class=\"data row7 col4\" >0.0 %</td>\n",
       "      <td id=\"T_31c38_row7_col5\" class=\"data row7 col5\" >0.0 %</td>\n",
       "      <td id=\"T_31c38_row7_col6\" class=\"data row7 col6\" >0.0 %</td>\n",
       "      <td id=\"T_31c38_row7_col7\" class=\"data row7 col7\" >96.8 %</td>\n",
       "      <td id=\"T_31c38_row7_col8\" class=\"data row7 col8\" >0.2 %</td>\n",
       "      <td id=\"T_31c38_row7_col9\" class=\"data row7 col9\" >0.9 %</td>\n",
       "    </tr>\n",
       "    <tr>\n",
       "      <th id=\"T_31c38_level0_row8\" class=\"row_heading level0 row8\" >8</th>\n",
       "      <td id=\"T_31c38_row8_col0\" class=\"data row8 col0\" >0.6 %</td>\n",
       "      <td id=\"T_31c38_row8_col1\" class=\"data row8 col1\" >0.0 %</td>\n",
       "      <td id=\"T_31c38_row8_col2\" class=\"data row8 col2\" >0.3 %</td>\n",
       "      <td id=\"T_31c38_row8_col3\" class=\"data row8 col3\" >0.3 %</td>\n",
       "      <td id=\"T_31c38_row8_col4\" class=\"data row8 col4\" >0.2 %</td>\n",
       "      <td id=\"T_31c38_row8_col5\" class=\"data row8 col5\" >0.3 %</td>\n",
       "      <td id=\"T_31c38_row8_col6\" class=\"data row8 col6\" >0.0 %</td>\n",
       "      <td id=\"T_31c38_row8_col7\" class=\"data row8 col7\" >0.5 %</td>\n",
       "      <td id=\"T_31c38_row8_col8\" class=\"data row8 col8\" >97.6 %</td>\n",
       "      <td id=\"T_31c38_row8_col9\" class=\"data row8 col9\" >0.1 %</td>\n",
       "    </tr>\n",
       "    <tr>\n",
       "      <th id=\"T_31c38_level0_row9\" class=\"row_heading level0 row9\" >9</th>\n",
       "      <td id=\"T_31c38_row9_col0\" class=\"data row9 col0\" >0.4 %</td>\n",
       "      <td id=\"T_31c38_row9_col1\" class=\"data row9 col1\" >0.2 %</td>\n",
       "      <td id=\"T_31c38_row9_col2\" class=\"data row9 col2\" >0.0 %</td>\n",
       "      <td id=\"T_31c38_row9_col3\" class=\"data row9 col3\" >1.1 %</td>\n",
       "      <td id=\"T_31c38_row9_col4\" class=\"data row9 col4\" >0.3 %</td>\n",
       "      <td id=\"T_31c38_row9_col5\" class=\"data row9 col5\" >0.4 %</td>\n",
       "      <td id=\"T_31c38_row9_col6\" class=\"data row9 col6\" >0.0 %</td>\n",
       "      <td id=\"T_31c38_row9_col7\" class=\"data row9 col7\" >0.5 %</td>\n",
       "      <td id=\"T_31c38_row9_col8\" class=\"data row9 col8\" >0.3 %</td>\n",
       "      <td id=\"T_31c38_row9_col9\" class=\"data row9 col9\" >96.8 %</td>\n",
       "    </tr>\n",
       "  </tbody>\n",
       "</table>\n"
      ],
      "text/plain": [
       "<pandas.io.formats.style.Styler at 0x2b58e5da7f0>"
      ]
     },
     "execution_count": 24,
     "metadata": {},
     "output_type": "execute_result"
    }
   ],
   "source": [
    "confusion_matrix(Y_classes, Ttest).style.background_gradient(cmap='Blues').format(\"{:.1f} %\")"
   ]
  },
  {
   "cell_type": "markdown",
   "metadata": {},
   "source": [
    "The following setup seems to just double down on whatever the original network did. Except for 1s, it doesn't actually have any difference and the point isn't to relabel 1s, specifically, but to relable everything that commonly gets mislabeled. I don't think voting is the way to go to get improvement."
   ]
  },
  {
   "cell_type": "code",
   "execution_count": 25,
   "metadata": {},
   "outputs": [],
   "source": [
    "# ```\n",
    "def checkMistakes(Xtest, Y_classes, test_num):\n",
    "    def castVote(vote, ballot):\n",
    "        if vote in ballot:\n",
    "            ballot.update({vote: ballot[vote]+1})\n",
    "        else:\n",
    "            ballot.setdefault(vote, 1)\n",
    "        return ballot\n",
    "\n",
    "    check_test = Xtest[Y_classes == test_num]\n",
    "    Ys_check = Y_classes[Y_classes == test_num]\n",
    "    check_test_cnn = check_test.reshape(-1, 1, 28, 28)\n",
    "    votes = [{} for i in range(Ys_check.shape[0])]\n",
    "    for i in list(asc_bad_pairs.keys()):\n",
    "        if test_num in i:\n",
    "            classification, _ = ccnets[i].use(check_test_cnn)\n",
    "            classification[classification == 0] = i[0]\n",
    "            classification[classification == 1] = i[1]\n",
    "            for index in range(Ys_check.shape[0]):\n",
    "                castVote(classification[index], votes[index])\n",
    "    the_vote = np.array([ max(votes[i], key=votes[i].get) for i in range(len(votes))])\n",
    "    # print(Ys_check)\n",
    "    print(len(Ys_check[Ys_check != the_vote]))\n",
    "    # print(the_vote)\n",
    "    return Y_classes"
   ]
  },
  {
   "cell_type": "code",
   "execution_count": 26,
   "metadata": {},
   "outputs": [
    {
     "name": "stdout",
     "output_type": "stream",
     "text": [
      "0\n",
      "1133\n",
      "0\n",
      "0\n",
      "0\n",
      "0\n",
      "0\n",
      "0\n",
      "0\n",
      "0\n"
     ]
    }
   ],
   "source": [
    "# ```\n",
    "for a in range(10):\n",
    "    copy_Y_classes = copy.deepcopy(Y_classes)\n",
    "    # print(f\"{a}: \")\n",
    "    checkMistakes(Xtest, Y_classes, a)\n",
    "    # print(len(copy_Y_classes[copy_Y_classes != Y_classes]))"
   ]
  },
  {
   "cell_type": "code",
   "execution_count": 27,
   "metadata": {},
   "outputs": [
    {
     "data": {
      "text/html": [
       "<style type=\"text/css\">\n",
       "#T_3ea44_row0_col0, #T_3ea44_row1_col1, #T_3ea44_row2_col2, #T_3ea44_row3_col3, #T_3ea44_row4_col4, #T_3ea44_row5_col5, #T_3ea44_row6_col6, #T_3ea44_row7_col7, #T_3ea44_row8_col8, #T_3ea44_row9_col9 {\n",
       "  background-color: #08306b;\n",
       "  color: #f1f1f1;\n",
       "}\n",
       "#T_3ea44_row0_col1, #T_3ea44_row0_col3, #T_3ea44_row0_col4, #T_3ea44_row0_col5, #T_3ea44_row0_col6, #T_3ea44_row0_col7, #T_3ea44_row0_col8, #T_3ea44_row0_col9, #T_3ea44_row1_col0, #T_3ea44_row1_col2, #T_3ea44_row1_col3, #T_3ea44_row1_col4, #T_3ea44_row1_col5, #T_3ea44_row1_col6, #T_3ea44_row1_col7, #T_3ea44_row1_col8, #T_3ea44_row1_col9, #T_3ea44_row2_col0, #T_3ea44_row2_col1, #T_3ea44_row2_col3, #T_3ea44_row2_col4, #T_3ea44_row2_col5, #T_3ea44_row2_col6, #T_3ea44_row2_col7, #T_3ea44_row2_col9, #T_3ea44_row3_col0, #T_3ea44_row3_col1, #T_3ea44_row3_col2, #T_3ea44_row3_col4, #T_3ea44_row3_col6, #T_3ea44_row3_col9, #T_3ea44_row4_col0, #T_3ea44_row4_col1, #T_3ea44_row4_col2, #T_3ea44_row4_col3, #T_3ea44_row4_col5, #T_3ea44_row4_col7, #T_3ea44_row4_col8, #T_3ea44_row5_col0, #T_3ea44_row5_col1, #T_3ea44_row5_col2, #T_3ea44_row5_col4, #T_3ea44_row5_col6, #T_3ea44_row5_col7, #T_3ea44_row6_col0, #T_3ea44_row6_col1, #T_3ea44_row6_col2, #T_3ea44_row6_col3, #T_3ea44_row6_col7, #T_3ea44_row6_col9, #T_3ea44_row7_col0, #T_3ea44_row7_col1, #T_3ea44_row7_col4, #T_3ea44_row7_col5, #T_3ea44_row7_col6, #T_3ea44_row7_col8, #T_3ea44_row8_col1, #T_3ea44_row8_col2, #T_3ea44_row8_col3, #T_3ea44_row8_col4, #T_3ea44_row8_col5, #T_3ea44_row8_col6, #T_3ea44_row8_col9, #T_3ea44_row9_col1, #T_3ea44_row9_col2, #T_3ea44_row9_col4, #T_3ea44_row9_col6, #T_3ea44_row9_col8 {\n",
       "  background-color: #f7fbff;\n",
       "  color: #000000;\n",
       "}\n",
       "#T_3ea44_row0_col2, #T_3ea44_row2_col8, #T_3ea44_row3_col5, #T_3ea44_row3_col7, #T_3ea44_row3_col8, #T_3ea44_row4_col6, #T_3ea44_row6_col4, #T_3ea44_row6_col8, #T_3ea44_row8_col0, #T_3ea44_row8_col7, #T_3ea44_row9_col0, #T_3ea44_row9_col5, #T_3ea44_row9_col7 {\n",
       "  background-color: #f6faff;\n",
       "  color: #000000;\n",
       "}\n",
       "#T_3ea44_row4_col9 {\n",
       "  background-color: #f5f9fe;\n",
       "  color: #000000;\n",
       "}\n",
       "#T_3ea44_row5_col3 {\n",
       "  background-color: #f4f9fe;\n",
       "  color: #000000;\n",
       "}\n",
       "#T_3ea44_row5_col8, #T_3ea44_row5_col9, #T_3ea44_row6_col5, #T_3ea44_row7_col2, #T_3ea44_row7_col3, #T_3ea44_row7_col9, #T_3ea44_row9_col3 {\n",
       "  background-color: #f5fafe;\n",
       "  color: #000000;\n",
       "}\n",
       "</style>\n",
       "<table id=\"T_3ea44\">\n",
       "  <thead>\n",
       "    <tr>\n",
       "      <th class=\"blank level0\" >&nbsp;</th>\n",
       "      <th id=\"T_3ea44_level0_col0\" class=\"col_heading level0 col0\" >0</th>\n",
       "      <th id=\"T_3ea44_level0_col1\" class=\"col_heading level0 col1\" >1</th>\n",
       "      <th id=\"T_3ea44_level0_col2\" class=\"col_heading level0 col2\" >2</th>\n",
       "      <th id=\"T_3ea44_level0_col3\" class=\"col_heading level0 col3\" >3</th>\n",
       "      <th id=\"T_3ea44_level0_col4\" class=\"col_heading level0 col4\" >4</th>\n",
       "      <th id=\"T_3ea44_level0_col5\" class=\"col_heading level0 col5\" >5</th>\n",
       "      <th id=\"T_3ea44_level0_col6\" class=\"col_heading level0 col6\" >6</th>\n",
       "      <th id=\"T_3ea44_level0_col7\" class=\"col_heading level0 col7\" >7</th>\n",
       "      <th id=\"T_3ea44_level0_col8\" class=\"col_heading level0 col8\" >8</th>\n",
       "      <th id=\"T_3ea44_level0_col9\" class=\"col_heading level0 col9\" >9</th>\n",
       "    </tr>\n",
       "  </thead>\n",
       "  <tbody>\n",
       "    <tr>\n",
       "      <th id=\"T_3ea44_level0_row0\" class=\"row_heading level0 row0\" >0</th>\n",
       "      <td id=\"T_3ea44_row0_col0\" class=\"data row0 col0\" >98.5 %</td>\n",
       "      <td id=\"T_3ea44_row0_col1\" class=\"data row0 col1\" >0.0 %</td>\n",
       "      <td id=\"T_3ea44_row0_col2\" class=\"data row0 col2\" >0.4 %</td>\n",
       "      <td id=\"T_3ea44_row0_col3\" class=\"data row0 col3\" >0.0 %</td>\n",
       "      <td id=\"T_3ea44_row0_col4\" class=\"data row0 col4\" >0.3 %</td>\n",
       "      <td id=\"T_3ea44_row0_col5\" class=\"data row0 col5\" >0.0 %</td>\n",
       "      <td id=\"T_3ea44_row0_col6\" class=\"data row0 col6\" >0.2 %</td>\n",
       "      <td id=\"T_3ea44_row0_col7\" class=\"data row0 col7\" >0.2 %</td>\n",
       "      <td id=\"T_3ea44_row0_col8\" class=\"data row0 col8\" >0.2 %</td>\n",
       "      <td id=\"T_3ea44_row0_col9\" class=\"data row0 col9\" >0.2 %</td>\n",
       "    </tr>\n",
       "    <tr>\n",
       "      <th id=\"T_3ea44_level0_row1\" class=\"row_heading level0 row1\" >1</th>\n",
       "      <td id=\"T_3ea44_row1_col0\" class=\"data row1 col0\" >0.0 %</td>\n",
       "      <td id=\"T_3ea44_row1_col1\" class=\"data row1 col1\" >99.1 %</td>\n",
       "      <td id=\"T_3ea44_row1_col2\" class=\"data row1 col2\" >0.3 %</td>\n",
       "      <td id=\"T_3ea44_row1_col3\" class=\"data row1 col3\" >0.1 %</td>\n",
       "      <td id=\"T_3ea44_row1_col4\" class=\"data row1 col4\" >0.0 %</td>\n",
       "      <td id=\"T_3ea44_row1_col5\" class=\"data row1 col5\" >0.1 %</td>\n",
       "      <td id=\"T_3ea44_row1_col6\" class=\"data row1 col6\" >0.0 %</td>\n",
       "      <td id=\"T_3ea44_row1_col7\" class=\"data row1 col7\" >0.1 %</td>\n",
       "      <td id=\"T_3ea44_row1_col8\" class=\"data row1 col8\" >0.4 %</td>\n",
       "      <td id=\"T_3ea44_row1_col9\" class=\"data row1 col9\" >0.0 %</td>\n",
       "    </tr>\n",
       "    <tr>\n",
       "      <th id=\"T_3ea44_level0_row2\" class=\"row_heading level0 row2\" >2</th>\n",
       "      <td id=\"T_3ea44_row2_col0\" class=\"data row2 col0\" >0.3 %</td>\n",
       "      <td id=\"T_3ea44_row2_col1\" class=\"data row2 col1\" >0.2 %</td>\n",
       "      <td id=\"T_3ea44_row2_col2\" class=\"data row2 col2\" >98.4 %</td>\n",
       "      <td id=\"T_3ea44_row2_col3\" class=\"data row2 col3\" >0.2 %</td>\n",
       "      <td id=\"T_3ea44_row2_col4\" class=\"data row2 col4\" >0.1 %</td>\n",
       "      <td id=\"T_3ea44_row2_col5\" class=\"data row2 col5\" >0.0 %</td>\n",
       "      <td id=\"T_3ea44_row2_col6\" class=\"data row2 col6\" >0.0 %</td>\n",
       "      <td id=\"T_3ea44_row2_col7\" class=\"data row2 col7\" >0.3 %</td>\n",
       "      <td id=\"T_3ea44_row2_col8\" class=\"data row2 col8\" >0.5 %</td>\n",
       "      <td id=\"T_3ea44_row2_col9\" class=\"data row2 col9\" >0.0 %</td>\n",
       "    </tr>\n",
       "    <tr>\n",
       "      <th id=\"T_3ea44_level0_row3\" class=\"row_heading level0 row3\" >3</th>\n",
       "      <td id=\"T_3ea44_row3_col0\" class=\"data row3 col0\" >0.0 %</td>\n",
       "      <td id=\"T_3ea44_row3_col1\" class=\"data row3 col1\" >0.0 %</td>\n",
       "      <td id=\"T_3ea44_row3_col2\" class=\"data row3 col2\" >0.3 %</td>\n",
       "      <td id=\"T_3ea44_row3_col3\" class=\"data row3 col3\" >98.2 %</td>\n",
       "      <td id=\"T_3ea44_row3_col4\" class=\"data row3 col4\" >0.0 %</td>\n",
       "      <td id=\"T_3ea44_row3_col5\" class=\"data row3 col5\" >0.4 %</td>\n",
       "      <td id=\"T_3ea44_row3_col6\" class=\"data row3 col6\" >0.0 %</td>\n",
       "      <td id=\"T_3ea44_row3_col7\" class=\"data row3 col7\" >0.4 %</td>\n",
       "      <td id=\"T_3ea44_row3_col8\" class=\"data row3 col8\" >0.7 %</td>\n",
       "      <td id=\"T_3ea44_row3_col9\" class=\"data row3 col9\" >0.0 %</td>\n",
       "    </tr>\n",
       "    <tr>\n",
       "      <th id=\"T_3ea44_level0_row4\" class=\"row_heading level0 row4\" >4</th>\n",
       "      <td id=\"T_3ea44_row4_col0\" class=\"data row4 col0\" >0.0 %</td>\n",
       "      <td id=\"T_3ea44_row4_col1\" class=\"data row4 col1\" >0.0 %</td>\n",
       "      <td id=\"T_3ea44_row4_col2\" class=\"data row4 col2\" >0.1 %</td>\n",
       "      <td id=\"T_3ea44_row4_col3\" class=\"data row4 col3\" >0.1 %</td>\n",
       "      <td id=\"T_3ea44_row4_col4\" class=\"data row4 col4\" >98.0 %</td>\n",
       "      <td id=\"T_3ea44_row4_col5\" class=\"data row4 col5\" >0.0 %</td>\n",
       "      <td id=\"T_3ea44_row4_col6\" class=\"data row4 col6\" >0.4 %</td>\n",
       "      <td id=\"T_3ea44_row4_col7\" class=\"data row4 col7\" >0.0 %</td>\n",
       "      <td id=\"T_3ea44_row4_col8\" class=\"data row4 col8\" >0.0 %</td>\n",
       "      <td id=\"T_3ea44_row4_col9\" class=\"data row4 col9\" >1.4 %</td>\n",
       "    </tr>\n",
       "    <tr>\n",
       "      <th id=\"T_3ea44_level0_row5\" class=\"row_heading level0 row5\" >5</th>\n",
       "      <td id=\"T_3ea44_row5_col0\" class=\"data row5 col0\" >0.3 %</td>\n",
       "      <td id=\"T_3ea44_row5_col1\" class=\"data row5 col1\" >0.0 %</td>\n",
       "      <td id=\"T_3ea44_row5_col2\" class=\"data row5 col2\" >0.0 %</td>\n",
       "      <td id=\"T_3ea44_row5_col3\" class=\"data row5 col3\" >1.6 %</td>\n",
       "      <td id=\"T_3ea44_row5_col4\" class=\"data row5 col4\" >0.0 %</td>\n",
       "      <td id=\"T_3ea44_row5_col5\" class=\"data row5 col5\" >96.0 %</td>\n",
       "      <td id=\"T_3ea44_row5_col6\" class=\"data row5 col6\" >0.2 %</td>\n",
       "      <td id=\"T_3ea44_row5_col7\" class=\"data row5 col7\" >0.1 %</td>\n",
       "      <td id=\"T_3ea44_row5_col8\" class=\"data row5 col8\" >1.0 %</td>\n",
       "      <td id=\"T_3ea44_row5_col9\" class=\"data row5 col9\" >0.8 %</td>\n",
       "    </tr>\n",
       "    <tr>\n",
       "      <th id=\"T_3ea44_level0_row6\" class=\"row_heading level0 row6\" >6</th>\n",
       "      <td id=\"T_3ea44_row6_col0\" class=\"data row6 col0\" >0.3 %</td>\n",
       "      <td id=\"T_3ea44_row6_col1\" class=\"data row6 col1\" >0.1 %</td>\n",
       "      <td id=\"T_3ea44_row6_col2\" class=\"data row6 col2\" >0.2 %</td>\n",
       "      <td id=\"T_3ea44_row6_col3\" class=\"data row6 col3\" >0.0 %</td>\n",
       "      <td id=\"T_3ea44_row6_col4\" class=\"data row6 col4\" >0.5 %</td>\n",
       "      <td id=\"T_3ea44_row6_col5\" class=\"data row6 col5\" >1.0 %</td>\n",
       "      <td id=\"T_3ea44_row6_col6\" class=\"data row6 col6\" >97.4 %</td>\n",
       "      <td id=\"T_3ea44_row6_col7\" class=\"data row6 col7\" >0.0 %</td>\n",
       "      <td id=\"T_3ea44_row6_col8\" class=\"data row6 col8\" >0.4 %</td>\n",
       "      <td id=\"T_3ea44_row6_col9\" class=\"data row6 col9\" >0.0 %</td>\n",
       "    </tr>\n",
       "    <tr>\n",
       "      <th id=\"T_3ea44_level0_row7\" class=\"row_heading level0 row7\" >7</th>\n",
       "      <td id=\"T_3ea44_row7_col0\" class=\"data row7 col0\" >0.1 %</td>\n",
       "      <td id=\"T_3ea44_row7_col1\" class=\"data row7 col1\" >0.3 %</td>\n",
       "      <td id=\"T_3ea44_row7_col2\" class=\"data row7 col2\" >1.0 %</td>\n",
       "      <td id=\"T_3ea44_row7_col3\" class=\"data row7 col3\" >0.8 %</td>\n",
       "      <td id=\"T_3ea44_row7_col4\" class=\"data row7 col4\" >0.0 %</td>\n",
       "      <td id=\"T_3ea44_row7_col5\" class=\"data row7 col5\" >0.0 %</td>\n",
       "      <td id=\"T_3ea44_row7_col6\" class=\"data row7 col6\" >0.0 %</td>\n",
       "      <td id=\"T_3ea44_row7_col7\" class=\"data row7 col7\" >96.8 %</td>\n",
       "      <td id=\"T_3ea44_row7_col8\" class=\"data row7 col8\" >0.2 %</td>\n",
       "      <td id=\"T_3ea44_row7_col9\" class=\"data row7 col9\" >0.9 %</td>\n",
       "    </tr>\n",
       "    <tr>\n",
       "      <th id=\"T_3ea44_level0_row8\" class=\"row_heading level0 row8\" >8</th>\n",
       "      <td id=\"T_3ea44_row8_col0\" class=\"data row8 col0\" >0.6 %</td>\n",
       "      <td id=\"T_3ea44_row8_col1\" class=\"data row8 col1\" >0.0 %</td>\n",
       "      <td id=\"T_3ea44_row8_col2\" class=\"data row8 col2\" >0.3 %</td>\n",
       "      <td id=\"T_3ea44_row8_col3\" class=\"data row8 col3\" >0.3 %</td>\n",
       "      <td id=\"T_3ea44_row8_col4\" class=\"data row8 col4\" >0.2 %</td>\n",
       "      <td id=\"T_3ea44_row8_col5\" class=\"data row8 col5\" >0.3 %</td>\n",
       "      <td id=\"T_3ea44_row8_col6\" class=\"data row8 col6\" >0.0 %</td>\n",
       "      <td id=\"T_3ea44_row8_col7\" class=\"data row8 col7\" >0.5 %</td>\n",
       "      <td id=\"T_3ea44_row8_col8\" class=\"data row8 col8\" >97.6 %</td>\n",
       "      <td id=\"T_3ea44_row8_col9\" class=\"data row8 col9\" >0.1 %</td>\n",
       "    </tr>\n",
       "    <tr>\n",
       "      <th id=\"T_3ea44_level0_row9\" class=\"row_heading level0 row9\" >9</th>\n",
       "      <td id=\"T_3ea44_row9_col0\" class=\"data row9 col0\" >0.4 %</td>\n",
       "      <td id=\"T_3ea44_row9_col1\" class=\"data row9 col1\" >0.2 %</td>\n",
       "      <td id=\"T_3ea44_row9_col2\" class=\"data row9 col2\" >0.0 %</td>\n",
       "      <td id=\"T_3ea44_row9_col3\" class=\"data row9 col3\" >1.1 %</td>\n",
       "      <td id=\"T_3ea44_row9_col4\" class=\"data row9 col4\" >0.3 %</td>\n",
       "      <td id=\"T_3ea44_row9_col5\" class=\"data row9 col5\" >0.4 %</td>\n",
       "      <td id=\"T_3ea44_row9_col6\" class=\"data row9 col6\" >0.0 %</td>\n",
       "      <td id=\"T_3ea44_row9_col7\" class=\"data row9 col7\" >0.5 %</td>\n",
       "      <td id=\"T_3ea44_row9_col8\" class=\"data row9 col8\" >0.3 %</td>\n",
       "      <td id=\"T_3ea44_row9_col9\" class=\"data row9 col9\" >96.8 %</td>\n",
       "    </tr>\n",
       "  </tbody>\n",
       "</table>\n"
      ],
      "text/plain": [
       "<pandas.io.formats.style.Styler at 0x2b58b8d43a0>"
      ]
     },
     "execution_count": 27,
     "metadata": {},
     "output_type": "execute_result"
    }
   ],
   "source": [
    "confusion_matrix(Y_classes, Ttest).style.background_gradient(cmap='Blues').format(\"{:.1f} %\")"
   ]
  },
  {
   "cell_type": "code",
   "execution_count": 28,
   "metadata": {},
   "outputs": [
    {
     "name": "stdout",
     "output_type": "stream",
     "text": [
      "228\n"
     ]
    }
   ],
   "source": [
    "print(len(Y_classes[Y_classes != Ttest]))"
   ]
  },
  {
   "cell_type": "markdown",
   "metadata": {},
   "source": [
    "Since that didn't work out, I'm just going to try checking for the probabilities instead of everything."
   ]
  },
  {
   "cell_type": "code",
   "execution_count": 29,
   "metadata": {},
   "outputs": [
    {
     "data": {
      "text/html": [
       "<style type=\"text/css\">\n",
       "#T_ae0dc_row0_col0, #T_ae0dc_row1_col1, #T_ae0dc_row2_col2, #T_ae0dc_row3_col3, #T_ae0dc_row4_col4, #T_ae0dc_row5_col5, #T_ae0dc_row6_col6, #T_ae0dc_row7_col7, #T_ae0dc_row8_col8, #T_ae0dc_row9_col9 {\n",
       "  background-color: #08306b;\n",
       "  color: #f1f1f1;\n",
       "}\n",
       "#T_ae0dc_row0_col1, #T_ae0dc_row0_col3, #T_ae0dc_row0_col4, #T_ae0dc_row0_col5, #T_ae0dc_row0_col6, #T_ae0dc_row0_col7, #T_ae0dc_row0_col8, #T_ae0dc_row0_col9, #T_ae0dc_row1_col0, #T_ae0dc_row1_col2, #T_ae0dc_row1_col3, #T_ae0dc_row1_col4, #T_ae0dc_row1_col5, #T_ae0dc_row1_col6, #T_ae0dc_row1_col7, #T_ae0dc_row1_col8, #T_ae0dc_row1_col9, #T_ae0dc_row2_col0, #T_ae0dc_row2_col1, #T_ae0dc_row2_col3, #T_ae0dc_row2_col4, #T_ae0dc_row2_col5, #T_ae0dc_row2_col6, #T_ae0dc_row2_col7, #T_ae0dc_row2_col9, #T_ae0dc_row3_col0, #T_ae0dc_row3_col1, #T_ae0dc_row3_col2, #T_ae0dc_row3_col4, #T_ae0dc_row3_col6, #T_ae0dc_row3_col9, #T_ae0dc_row4_col0, #T_ae0dc_row4_col1, #T_ae0dc_row4_col2, #T_ae0dc_row4_col3, #T_ae0dc_row4_col5, #T_ae0dc_row4_col7, #T_ae0dc_row4_col8, #T_ae0dc_row5_col0, #T_ae0dc_row5_col1, #T_ae0dc_row5_col2, #T_ae0dc_row5_col4, #T_ae0dc_row5_col6, #T_ae0dc_row5_col7, #T_ae0dc_row6_col0, #T_ae0dc_row6_col1, #T_ae0dc_row6_col2, #T_ae0dc_row6_col3, #T_ae0dc_row6_col7, #T_ae0dc_row6_col9, #T_ae0dc_row7_col0, #T_ae0dc_row7_col1, #T_ae0dc_row7_col4, #T_ae0dc_row7_col5, #T_ae0dc_row7_col6, #T_ae0dc_row7_col8, #T_ae0dc_row8_col1, #T_ae0dc_row8_col2, #T_ae0dc_row8_col3, #T_ae0dc_row8_col4, #T_ae0dc_row8_col5, #T_ae0dc_row8_col6, #T_ae0dc_row8_col9, #T_ae0dc_row9_col1, #T_ae0dc_row9_col2, #T_ae0dc_row9_col4, #T_ae0dc_row9_col6, #T_ae0dc_row9_col8 {\n",
       "  background-color: #f7fbff;\n",
       "  color: #000000;\n",
       "}\n",
       "#T_ae0dc_row0_col2, #T_ae0dc_row2_col8, #T_ae0dc_row3_col5, #T_ae0dc_row3_col7, #T_ae0dc_row3_col8, #T_ae0dc_row4_col6, #T_ae0dc_row6_col4, #T_ae0dc_row6_col8, #T_ae0dc_row8_col0, #T_ae0dc_row8_col7, #T_ae0dc_row9_col0, #T_ae0dc_row9_col5, #T_ae0dc_row9_col7 {\n",
       "  background-color: #f6faff;\n",
       "  color: #000000;\n",
       "}\n",
       "#T_ae0dc_row4_col9 {\n",
       "  background-color: #f5f9fe;\n",
       "  color: #000000;\n",
       "}\n",
       "#T_ae0dc_row5_col3 {\n",
       "  background-color: #f4f9fe;\n",
       "  color: #000000;\n",
       "}\n",
       "#T_ae0dc_row5_col8, #T_ae0dc_row5_col9, #T_ae0dc_row6_col5, #T_ae0dc_row7_col2, #T_ae0dc_row7_col3, #T_ae0dc_row7_col9, #T_ae0dc_row9_col3 {\n",
       "  background-color: #f5fafe;\n",
       "  color: #000000;\n",
       "}\n",
       "</style>\n",
       "<table id=\"T_ae0dc\">\n",
       "  <thead>\n",
       "    <tr>\n",
       "      <th class=\"blank level0\" >&nbsp;</th>\n",
       "      <th id=\"T_ae0dc_level0_col0\" class=\"col_heading level0 col0\" >0</th>\n",
       "      <th id=\"T_ae0dc_level0_col1\" class=\"col_heading level0 col1\" >1</th>\n",
       "      <th id=\"T_ae0dc_level0_col2\" class=\"col_heading level0 col2\" >2</th>\n",
       "      <th id=\"T_ae0dc_level0_col3\" class=\"col_heading level0 col3\" >3</th>\n",
       "      <th id=\"T_ae0dc_level0_col4\" class=\"col_heading level0 col4\" >4</th>\n",
       "      <th id=\"T_ae0dc_level0_col5\" class=\"col_heading level0 col5\" >5</th>\n",
       "      <th id=\"T_ae0dc_level0_col6\" class=\"col_heading level0 col6\" >6</th>\n",
       "      <th id=\"T_ae0dc_level0_col7\" class=\"col_heading level0 col7\" >7</th>\n",
       "      <th id=\"T_ae0dc_level0_col8\" class=\"col_heading level0 col8\" >8</th>\n",
       "      <th id=\"T_ae0dc_level0_col9\" class=\"col_heading level0 col9\" >9</th>\n",
       "    </tr>\n",
       "  </thead>\n",
       "  <tbody>\n",
       "    <tr>\n",
       "      <th id=\"T_ae0dc_level0_row0\" class=\"row_heading level0 row0\" >0</th>\n",
       "      <td id=\"T_ae0dc_row0_col0\" class=\"data row0 col0\" >98.5 %</td>\n",
       "      <td id=\"T_ae0dc_row0_col1\" class=\"data row0 col1\" >0.0 %</td>\n",
       "      <td id=\"T_ae0dc_row0_col2\" class=\"data row0 col2\" >0.4 %</td>\n",
       "      <td id=\"T_ae0dc_row0_col3\" class=\"data row0 col3\" >0.0 %</td>\n",
       "      <td id=\"T_ae0dc_row0_col4\" class=\"data row0 col4\" >0.3 %</td>\n",
       "      <td id=\"T_ae0dc_row0_col5\" class=\"data row0 col5\" >0.0 %</td>\n",
       "      <td id=\"T_ae0dc_row0_col6\" class=\"data row0 col6\" >0.2 %</td>\n",
       "      <td id=\"T_ae0dc_row0_col7\" class=\"data row0 col7\" >0.2 %</td>\n",
       "      <td id=\"T_ae0dc_row0_col8\" class=\"data row0 col8\" >0.2 %</td>\n",
       "      <td id=\"T_ae0dc_row0_col9\" class=\"data row0 col9\" >0.2 %</td>\n",
       "    </tr>\n",
       "    <tr>\n",
       "      <th id=\"T_ae0dc_level0_row1\" class=\"row_heading level0 row1\" >1</th>\n",
       "      <td id=\"T_ae0dc_row1_col0\" class=\"data row1 col0\" >0.0 %</td>\n",
       "      <td id=\"T_ae0dc_row1_col1\" class=\"data row1 col1\" >99.1 %</td>\n",
       "      <td id=\"T_ae0dc_row1_col2\" class=\"data row1 col2\" >0.3 %</td>\n",
       "      <td id=\"T_ae0dc_row1_col3\" class=\"data row1 col3\" >0.1 %</td>\n",
       "      <td id=\"T_ae0dc_row1_col4\" class=\"data row1 col4\" >0.0 %</td>\n",
       "      <td id=\"T_ae0dc_row1_col5\" class=\"data row1 col5\" >0.1 %</td>\n",
       "      <td id=\"T_ae0dc_row1_col6\" class=\"data row1 col6\" >0.0 %</td>\n",
       "      <td id=\"T_ae0dc_row1_col7\" class=\"data row1 col7\" >0.1 %</td>\n",
       "      <td id=\"T_ae0dc_row1_col8\" class=\"data row1 col8\" >0.4 %</td>\n",
       "      <td id=\"T_ae0dc_row1_col9\" class=\"data row1 col9\" >0.0 %</td>\n",
       "    </tr>\n",
       "    <tr>\n",
       "      <th id=\"T_ae0dc_level0_row2\" class=\"row_heading level0 row2\" >2</th>\n",
       "      <td id=\"T_ae0dc_row2_col0\" class=\"data row2 col0\" >0.3 %</td>\n",
       "      <td id=\"T_ae0dc_row2_col1\" class=\"data row2 col1\" >0.2 %</td>\n",
       "      <td id=\"T_ae0dc_row2_col2\" class=\"data row2 col2\" >98.4 %</td>\n",
       "      <td id=\"T_ae0dc_row2_col3\" class=\"data row2 col3\" >0.2 %</td>\n",
       "      <td id=\"T_ae0dc_row2_col4\" class=\"data row2 col4\" >0.1 %</td>\n",
       "      <td id=\"T_ae0dc_row2_col5\" class=\"data row2 col5\" >0.0 %</td>\n",
       "      <td id=\"T_ae0dc_row2_col6\" class=\"data row2 col6\" >0.0 %</td>\n",
       "      <td id=\"T_ae0dc_row2_col7\" class=\"data row2 col7\" >0.3 %</td>\n",
       "      <td id=\"T_ae0dc_row2_col8\" class=\"data row2 col8\" >0.5 %</td>\n",
       "      <td id=\"T_ae0dc_row2_col9\" class=\"data row2 col9\" >0.0 %</td>\n",
       "    </tr>\n",
       "    <tr>\n",
       "      <th id=\"T_ae0dc_level0_row3\" class=\"row_heading level0 row3\" >3</th>\n",
       "      <td id=\"T_ae0dc_row3_col0\" class=\"data row3 col0\" >0.0 %</td>\n",
       "      <td id=\"T_ae0dc_row3_col1\" class=\"data row3 col1\" >0.0 %</td>\n",
       "      <td id=\"T_ae0dc_row3_col2\" class=\"data row3 col2\" >0.3 %</td>\n",
       "      <td id=\"T_ae0dc_row3_col3\" class=\"data row3 col3\" >98.2 %</td>\n",
       "      <td id=\"T_ae0dc_row3_col4\" class=\"data row3 col4\" >0.0 %</td>\n",
       "      <td id=\"T_ae0dc_row3_col5\" class=\"data row3 col5\" >0.4 %</td>\n",
       "      <td id=\"T_ae0dc_row3_col6\" class=\"data row3 col6\" >0.0 %</td>\n",
       "      <td id=\"T_ae0dc_row3_col7\" class=\"data row3 col7\" >0.4 %</td>\n",
       "      <td id=\"T_ae0dc_row3_col8\" class=\"data row3 col8\" >0.7 %</td>\n",
       "      <td id=\"T_ae0dc_row3_col9\" class=\"data row3 col9\" >0.0 %</td>\n",
       "    </tr>\n",
       "    <tr>\n",
       "      <th id=\"T_ae0dc_level0_row4\" class=\"row_heading level0 row4\" >4</th>\n",
       "      <td id=\"T_ae0dc_row4_col0\" class=\"data row4 col0\" >0.0 %</td>\n",
       "      <td id=\"T_ae0dc_row4_col1\" class=\"data row4 col1\" >0.0 %</td>\n",
       "      <td id=\"T_ae0dc_row4_col2\" class=\"data row4 col2\" >0.1 %</td>\n",
       "      <td id=\"T_ae0dc_row4_col3\" class=\"data row4 col3\" >0.1 %</td>\n",
       "      <td id=\"T_ae0dc_row4_col4\" class=\"data row4 col4\" >98.0 %</td>\n",
       "      <td id=\"T_ae0dc_row4_col5\" class=\"data row4 col5\" >0.0 %</td>\n",
       "      <td id=\"T_ae0dc_row4_col6\" class=\"data row4 col6\" >0.4 %</td>\n",
       "      <td id=\"T_ae0dc_row4_col7\" class=\"data row4 col7\" >0.0 %</td>\n",
       "      <td id=\"T_ae0dc_row4_col8\" class=\"data row4 col8\" >0.0 %</td>\n",
       "      <td id=\"T_ae0dc_row4_col9\" class=\"data row4 col9\" >1.4 %</td>\n",
       "    </tr>\n",
       "    <tr>\n",
       "      <th id=\"T_ae0dc_level0_row5\" class=\"row_heading level0 row5\" >5</th>\n",
       "      <td id=\"T_ae0dc_row5_col0\" class=\"data row5 col0\" >0.3 %</td>\n",
       "      <td id=\"T_ae0dc_row5_col1\" class=\"data row5 col1\" >0.0 %</td>\n",
       "      <td id=\"T_ae0dc_row5_col2\" class=\"data row5 col2\" >0.0 %</td>\n",
       "      <td id=\"T_ae0dc_row5_col3\" class=\"data row5 col3\" >1.6 %</td>\n",
       "      <td id=\"T_ae0dc_row5_col4\" class=\"data row5 col4\" >0.0 %</td>\n",
       "      <td id=\"T_ae0dc_row5_col5\" class=\"data row5 col5\" >96.0 %</td>\n",
       "      <td id=\"T_ae0dc_row5_col6\" class=\"data row5 col6\" >0.2 %</td>\n",
       "      <td id=\"T_ae0dc_row5_col7\" class=\"data row5 col7\" >0.1 %</td>\n",
       "      <td id=\"T_ae0dc_row5_col8\" class=\"data row5 col8\" >1.0 %</td>\n",
       "      <td id=\"T_ae0dc_row5_col9\" class=\"data row5 col9\" >0.8 %</td>\n",
       "    </tr>\n",
       "    <tr>\n",
       "      <th id=\"T_ae0dc_level0_row6\" class=\"row_heading level0 row6\" >6</th>\n",
       "      <td id=\"T_ae0dc_row6_col0\" class=\"data row6 col0\" >0.3 %</td>\n",
       "      <td id=\"T_ae0dc_row6_col1\" class=\"data row6 col1\" >0.1 %</td>\n",
       "      <td id=\"T_ae0dc_row6_col2\" class=\"data row6 col2\" >0.2 %</td>\n",
       "      <td id=\"T_ae0dc_row6_col3\" class=\"data row6 col3\" >0.0 %</td>\n",
       "      <td id=\"T_ae0dc_row6_col4\" class=\"data row6 col4\" >0.5 %</td>\n",
       "      <td id=\"T_ae0dc_row6_col5\" class=\"data row6 col5\" >1.0 %</td>\n",
       "      <td id=\"T_ae0dc_row6_col6\" class=\"data row6 col6\" >97.4 %</td>\n",
       "      <td id=\"T_ae0dc_row6_col7\" class=\"data row6 col7\" >0.0 %</td>\n",
       "      <td id=\"T_ae0dc_row6_col8\" class=\"data row6 col8\" >0.4 %</td>\n",
       "      <td id=\"T_ae0dc_row6_col9\" class=\"data row6 col9\" >0.0 %</td>\n",
       "    </tr>\n",
       "    <tr>\n",
       "      <th id=\"T_ae0dc_level0_row7\" class=\"row_heading level0 row7\" >7</th>\n",
       "      <td id=\"T_ae0dc_row7_col0\" class=\"data row7 col0\" >0.1 %</td>\n",
       "      <td id=\"T_ae0dc_row7_col1\" class=\"data row7 col1\" >0.3 %</td>\n",
       "      <td id=\"T_ae0dc_row7_col2\" class=\"data row7 col2\" >1.0 %</td>\n",
       "      <td id=\"T_ae0dc_row7_col3\" class=\"data row7 col3\" >0.8 %</td>\n",
       "      <td id=\"T_ae0dc_row7_col4\" class=\"data row7 col4\" >0.0 %</td>\n",
       "      <td id=\"T_ae0dc_row7_col5\" class=\"data row7 col5\" >0.0 %</td>\n",
       "      <td id=\"T_ae0dc_row7_col6\" class=\"data row7 col6\" >0.0 %</td>\n",
       "      <td id=\"T_ae0dc_row7_col7\" class=\"data row7 col7\" >96.8 %</td>\n",
       "      <td id=\"T_ae0dc_row7_col8\" class=\"data row7 col8\" >0.2 %</td>\n",
       "      <td id=\"T_ae0dc_row7_col9\" class=\"data row7 col9\" >0.9 %</td>\n",
       "    </tr>\n",
       "    <tr>\n",
       "      <th id=\"T_ae0dc_level0_row8\" class=\"row_heading level0 row8\" >8</th>\n",
       "      <td id=\"T_ae0dc_row8_col0\" class=\"data row8 col0\" >0.6 %</td>\n",
       "      <td id=\"T_ae0dc_row8_col1\" class=\"data row8 col1\" >0.0 %</td>\n",
       "      <td id=\"T_ae0dc_row8_col2\" class=\"data row8 col2\" >0.3 %</td>\n",
       "      <td id=\"T_ae0dc_row8_col3\" class=\"data row8 col3\" >0.3 %</td>\n",
       "      <td id=\"T_ae0dc_row8_col4\" class=\"data row8 col4\" >0.2 %</td>\n",
       "      <td id=\"T_ae0dc_row8_col5\" class=\"data row8 col5\" >0.3 %</td>\n",
       "      <td id=\"T_ae0dc_row8_col6\" class=\"data row8 col6\" >0.0 %</td>\n",
       "      <td id=\"T_ae0dc_row8_col7\" class=\"data row8 col7\" >0.5 %</td>\n",
       "      <td id=\"T_ae0dc_row8_col8\" class=\"data row8 col8\" >97.6 %</td>\n",
       "      <td id=\"T_ae0dc_row8_col9\" class=\"data row8 col9\" >0.1 %</td>\n",
       "    </tr>\n",
       "    <tr>\n",
       "      <th id=\"T_ae0dc_level0_row9\" class=\"row_heading level0 row9\" >9</th>\n",
       "      <td id=\"T_ae0dc_row9_col0\" class=\"data row9 col0\" >0.4 %</td>\n",
       "      <td id=\"T_ae0dc_row9_col1\" class=\"data row9 col1\" >0.2 %</td>\n",
       "      <td id=\"T_ae0dc_row9_col2\" class=\"data row9 col2\" >0.0 %</td>\n",
       "      <td id=\"T_ae0dc_row9_col3\" class=\"data row9 col3\" >1.1 %</td>\n",
       "      <td id=\"T_ae0dc_row9_col4\" class=\"data row9 col4\" >0.3 %</td>\n",
       "      <td id=\"T_ae0dc_row9_col5\" class=\"data row9 col5\" >0.4 %</td>\n",
       "      <td id=\"T_ae0dc_row9_col6\" class=\"data row9 col6\" >0.0 %</td>\n",
       "      <td id=\"T_ae0dc_row9_col7\" class=\"data row9 col7\" >0.5 %</td>\n",
       "      <td id=\"T_ae0dc_row9_col8\" class=\"data row9 col8\" >0.3 %</td>\n",
       "      <td id=\"T_ae0dc_row9_col9\" class=\"data row9 col9\" >96.8 %</td>\n",
       "    </tr>\n",
       "  </tbody>\n",
       "</table>\n"
      ],
      "text/plain": [
       "<pandas.io.formats.style.Styler at 0x2b58b8d44f0>"
      ]
     },
     "execution_count": 29,
     "metadata": {},
     "output_type": "execute_result"
    }
   ],
   "source": [
    "Y_classes, Y_probs = cnnet.use(Xtest_cnn)\n",
    "confusion_matrix(Y_classes, Ttest).style.background_gradient(cmap='Blues').format(\"{:.1f} %\")"
   ]
  },
  {
   "cell_type": "markdown",
   "metadata": {},
   "source": [
    "This checks the top two probabilities. If the top one is at less than 90%, it runs a check on the discerning networks."
   ]
  },
  {
   "cell_type": "code",
   "execution_count": 30,
   "metadata": {},
   "outputs": [],
   "source": [
    "X = Xtest\n",
    "X_cnn = X.reshape(-1, 1, 28, 28)\n",
    "for i in range(Y_classes.shape[0]):\n",
    "    confused = np.argsort(Y_probs[i])[-2:]\n",
    "    if Y_probs[i, confused[1]] < 0.9:\n",
    "        confusion_check = tuplefyOrderedPair(confused[0], confused[1])\n",
    "        if confusion_check in list(asc_bad_pairs.keys()):\n",
    "            classification, _ = ccnets[confusion_check].use(X_cnn)\n",
    "            classification[classification == 0] = confusion_check[0]\n",
    "            classification[classification == 1] = confusion_check[1]\n",
    "            Y_classes[i] = classification[i]\n",
    "    \n"
   ]
  },
  {
   "cell_type": "code",
   "execution_count": 31,
   "metadata": {},
   "outputs": [
    {
     "data": {
      "text/html": [
       "<style type=\"text/css\">\n",
       "#T_97cfe_row0_col0, #T_97cfe_row1_col1, #T_97cfe_row2_col2, #T_97cfe_row3_col3, #T_97cfe_row4_col4, #T_97cfe_row5_col5, #T_97cfe_row6_col6, #T_97cfe_row7_col7, #T_97cfe_row8_col8, #T_97cfe_row9_col9 {\n",
       "  background-color: #08306b;\n",
       "  color: #f1f1f1;\n",
       "}\n",
       "#T_97cfe_row0_col1, #T_97cfe_row0_col2, #T_97cfe_row0_col3, #T_97cfe_row0_col4, #T_97cfe_row0_col5, #T_97cfe_row0_col6, #T_97cfe_row0_col7, #T_97cfe_row0_col8, #T_97cfe_row0_col9, #T_97cfe_row1_col0, #T_97cfe_row1_col5, #T_97cfe_row1_col6, #T_97cfe_row1_col9, #T_97cfe_row2_col0, #T_97cfe_row2_col1, #T_97cfe_row2_col3, #T_97cfe_row2_col4, #T_97cfe_row2_col5, #T_97cfe_row2_col6, #T_97cfe_row2_col7, #T_97cfe_row2_col8, #T_97cfe_row2_col9, #T_97cfe_row3_col0, #T_97cfe_row3_col1, #T_97cfe_row3_col4, #T_97cfe_row3_col6, #T_97cfe_row3_col7, #T_97cfe_row3_col8, #T_97cfe_row3_col9, #T_97cfe_row4_col0, #T_97cfe_row4_col1, #T_97cfe_row4_col2, #T_97cfe_row4_col3, #T_97cfe_row4_col5, #T_97cfe_row4_col7, #T_97cfe_row4_col8, #T_97cfe_row5_col0, #T_97cfe_row5_col1, #T_97cfe_row5_col2, #T_97cfe_row5_col4, #T_97cfe_row5_col6, #T_97cfe_row5_col7, #T_97cfe_row5_col8, #T_97cfe_row5_col9, #T_97cfe_row6_col0, #T_97cfe_row6_col1, #T_97cfe_row6_col2, #T_97cfe_row6_col3, #T_97cfe_row6_col4, #T_97cfe_row6_col7, #T_97cfe_row6_col8, #T_97cfe_row6_col9, #T_97cfe_row7_col0, #T_97cfe_row7_col1, #T_97cfe_row7_col4, #T_97cfe_row7_col5, #T_97cfe_row7_col6, #T_97cfe_row7_col8, #T_97cfe_row8_col1, #T_97cfe_row8_col2, #T_97cfe_row8_col3, #T_97cfe_row8_col4, #T_97cfe_row8_col5, #T_97cfe_row8_col6, #T_97cfe_row8_col9, #T_97cfe_row9_col0, #T_97cfe_row9_col1, #T_97cfe_row9_col2, #T_97cfe_row9_col5, #T_97cfe_row9_col6, #T_97cfe_row9_col8 {\n",
       "  background-color: #f7fbff;\n",
       "  color: #000000;\n",
       "}\n",
       "#T_97cfe_row1_col2, #T_97cfe_row1_col4, #T_97cfe_row1_col7, #T_97cfe_row1_col8, #T_97cfe_row3_col2, #T_97cfe_row3_col5, #T_97cfe_row4_col6, #T_97cfe_row6_col5, #T_97cfe_row7_col9, #T_97cfe_row8_col0, #T_97cfe_row8_col7, #T_97cfe_row9_col3, #T_97cfe_row9_col7 {\n",
       "  background-color: #f6faff;\n",
       "  color: #000000;\n",
       "}\n",
       "#T_97cfe_row1_col3, #T_97cfe_row4_col9, #T_97cfe_row5_col3, #T_97cfe_row7_col2, #T_97cfe_row7_col3, #T_97cfe_row9_col4 {\n",
       "  background-color: #f5fafe;\n",
       "  color: #000000;\n",
       "}\n",
       "</style>\n",
       "<table id=\"T_97cfe\">\n",
       "  <thead>\n",
       "    <tr>\n",
       "      <th class=\"blank level0\" >&nbsp;</th>\n",
       "      <th id=\"T_97cfe_level0_col0\" class=\"col_heading level0 col0\" >0</th>\n",
       "      <th id=\"T_97cfe_level0_col1\" class=\"col_heading level0 col1\" >1</th>\n",
       "      <th id=\"T_97cfe_level0_col2\" class=\"col_heading level0 col2\" >2</th>\n",
       "      <th id=\"T_97cfe_level0_col3\" class=\"col_heading level0 col3\" >3</th>\n",
       "      <th id=\"T_97cfe_level0_col4\" class=\"col_heading level0 col4\" >4</th>\n",
       "      <th id=\"T_97cfe_level0_col5\" class=\"col_heading level0 col5\" >5</th>\n",
       "      <th id=\"T_97cfe_level0_col6\" class=\"col_heading level0 col6\" >6</th>\n",
       "      <th id=\"T_97cfe_level0_col7\" class=\"col_heading level0 col7\" >7</th>\n",
       "      <th id=\"T_97cfe_level0_col8\" class=\"col_heading level0 col8\" >8</th>\n",
       "      <th id=\"T_97cfe_level0_col9\" class=\"col_heading level0 col9\" >9</th>\n",
       "    </tr>\n",
       "  </thead>\n",
       "  <tbody>\n",
       "    <tr>\n",
       "      <th id=\"T_97cfe_level0_row0\" class=\"row_heading level0 row0\" >0</th>\n",
       "      <td id=\"T_97cfe_row0_col0\" class=\"data row0 col0\" >99.2 %</td>\n",
       "      <td id=\"T_97cfe_row0_col1\" class=\"data row0 col1\" >0.0 %</td>\n",
       "      <td id=\"T_97cfe_row0_col2\" class=\"data row0 col2\" >0.1 %</td>\n",
       "      <td id=\"T_97cfe_row0_col3\" class=\"data row0 col3\" >0.0 %</td>\n",
       "      <td id=\"T_97cfe_row0_col4\" class=\"data row0 col4\" >0.1 %</td>\n",
       "      <td id=\"T_97cfe_row0_col5\" class=\"data row0 col5\" >0.1 %</td>\n",
       "      <td id=\"T_97cfe_row0_col6\" class=\"data row0 col6\" >0.1 %</td>\n",
       "      <td id=\"T_97cfe_row0_col7\" class=\"data row0 col7\" >0.2 %</td>\n",
       "      <td id=\"T_97cfe_row0_col8\" class=\"data row0 col8\" >0.2 %</td>\n",
       "      <td id=\"T_97cfe_row0_col9\" class=\"data row0 col9\" >0.0 %</td>\n",
       "    </tr>\n",
       "    <tr>\n",
       "      <th id=\"T_97cfe_level0_row1\" class=\"row_heading level0 row1\" >1</th>\n",
       "      <td id=\"T_97cfe_row1_col0\" class=\"data row1 col0\" >0.0 %</td>\n",
       "      <td id=\"T_97cfe_row1_col1\" class=\"data row1 col1\" >96.1 %</td>\n",
       "      <td id=\"T_97cfe_row1_col2\" class=\"data row1 col2\" >0.7 %</td>\n",
       "      <td id=\"T_97cfe_row1_col3\" class=\"data row1 col3\" >0.8 %</td>\n",
       "      <td id=\"T_97cfe_row1_col4\" class=\"data row1 col4\" >0.6 %</td>\n",
       "      <td id=\"T_97cfe_row1_col5\" class=\"data row1 col5\" >0.0 %</td>\n",
       "      <td id=\"T_97cfe_row1_col6\" class=\"data row1 col6\" >0.4 %</td>\n",
       "      <td id=\"T_97cfe_row1_col7\" class=\"data row1 col7\" >0.6 %</td>\n",
       "      <td id=\"T_97cfe_row1_col8\" class=\"data row1 col8\" >0.8 %</td>\n",
       "      <td id=\"T_97cfe_row1_col9\" class=\"data row1 col9\" >0.0 %</td>\n",
       "    </tr>\n",
       "    <tr>\n",
       "      <th id=\"T_97cfe_level0_row2\" class=\"row_heading level0 row2\" >2</th>\n",
       "      <td id=\"T_97cfe_row2_col0\" class=\"data row2 col0\" >0.3 %</td>\n",
       "      <td id=\"T_97cfe_row2_col1\" class=\"data row2 col1\" >0.0 %</td>\n",
       "      <td id=\"T_97cfe_row2_col2\" class=\"data row2 col2\" >98.8 %</td>\n",
       "      <td id=\"T_97cfe_row2_col3\" class=\"data row2 col3\" >0.1 %</td>\n",
       "      <td id=\"T_97cfe_row2_col4\" class=\"data row2 col4\" >0.2 %</td>\n",
       "      <td id=\"T_97cfe_row2_col5\" class=\"data row2 col5\" >0.0 %</td>\n",
       "      <td id=\"T_97cfe_row2_col6\" class=\"data row2 col6\" >0.0 %</td>\n",
       "      <td id=\"T_97cfe_row2_col7\" class=\"data row2 col7\" >0.3 %</td>\n",
       "      <td id=\"T_97cfe_row2_col8\" class=\"data row2 col8\" >0.3 %</td>\n",
       "      <td id=\"T_97cfe_row2_col9\" class=\"data row2 col9\" >0.0 %</td>\n",
       "    </tr>\n",
       "    <tr>\n",
       "      <th id=\"T_97cfe_level0_row3\" class=\"row_heading level0 row3\" >3</th>\n",
       "      <td id=\"T_97cfe_row3_col0\" class=\"data row3 col0\" >0.0 %</td>\n",
       "      <td id=\"T_97cfe_row3_col1\" class=\"data row3 col1\" >0.0 %</td>\n",
       "      <td id=\"T_97cfe_row3_col2\" class=\"data row3 col2\" >0.4 %</td>\n",
       "      <td id=\"T_97cfe_row3_col3\" class=\"data row3 col3\" >98.5 %</td>\n",
       "      <td id=\"T_97cfe_row3_col4\" class=\"data row3 col4\" >0.0 %</td>\n",
       "      <td id=\"T_97cfe_row3_col5\" class=\"data row3 col5\" >0.4 %</td>\n",
       "      <td id=\"T_97cfe_row3_col6\" class=\"data row3 col6\" >0.0 %</td>\n",
       "      <td id=\"T_97cfe_row3_col7\" class=\"data row3 col7\" >0.3 %</td>\n",
       "      <td id=\"T_97cfe_row3_col8\" class=\"data row3 col8\" >0.3 %</td>\n",
       "      <td id=\"T_97cfe_row3_col9\" class=\"data row3 col9\" >0.1 %</td>\n",
       "    </tr>\n",
       "    <tr>\n",
       "      <th id=\"T_97cfe_level0_row4\" class=\"row_heading level0 row4\" >4</th>\n",
       "      <td id=\"T_97cfe_row4_col0\" class=\"data row4 col0\" >0.0 %</td>\n",
       "      <td id=\"T_97cfe_row4_col1\" class=\"data row4 col1\" >0.0 %</td>\n",
       "      <td id=\"T_97cfe_row4_col2\" class=\"data row4 col2\" >0.1 %</td>\n",
       "      <td id=\"T_97cfe_row4_col3\" class=\"data row4 col3\" >0.1 %</td>\n",
       "      <td id=\"T_97cfe_row4_col4\" class=\"data row4 col4\" >98.5 %</td>\n",
       "      <td id=\"T_97cfe_row4_col5\" class=\"data row4 col5\" >0.0 %</td>\n",
       "      <td id=\"T_97cfe_row4_col6\" class=\"data row4 col6\" >0.4 %</td>\n",
       "      <td id=\"T_97cfe_row4_col7\" class=\"data row4 col7\" >0.0 %</td>\n",
       "      <td id=\"T_97cfe_row4_col8\" class=\"data row4 col8\" >0.1 %</td>\n",
       "      <td id=\"T_97cfe_row4_col9\" class=\"data row4 col9\" >0.8 %</td>\n",
       "    </tr>\n",
       "    <tr>\n",
       "      <th id=\"T_97cfe_level0_row5\" class=\"row_heading level0 row5\" >5</th>\n",
       "      <td id=\"T_97cfe_row5_col0\" class=\"data row5 col0\" >0.3 %</td>\n",
       "      <td id=\"T_97cfe_row5_col1\" class=\"data row5 col1\" >0.0 %</td>\n",
       "      <td id=\"T_97cfe_row5_col2\" class=\"data row5 col2\" >0.0 %</td>\n",
       "      <td id=\"T_97cfe_row5_col3\" class=\"data row5 col3\" >1.0 %</td>\n",
       "      <td id=\"T_97cfe_row5_col4\" class=\"data row5 col4\" >0.0 %</td>\n",
       "      <td id=\"T_97cfe_row5_col5\" class=\"data row5 col5\" >97.6 %</td>\n",
       "      <td id=\"T_97cfe_row5_col6\" class=\"data row5 col6\" >0.2 %</td>\n",
       "      <td id=\"T_97cfe_row5_col7\" class=\"data row5 col7\" >0.1 %</td>\n",
       "      <td id=\"T_97cfe_row5_col8\" class=\"data row5 col8\" >0.4 %</td>\n",
       "      <td id=\"T_97cfe_row5_col9\" class=\"data row5 col9\" >0.2 %</td>\n",
       "    </tr>\n",
       "    <tr>\n",
       "      <th id=\"T_97cfe_level0_row6\" class=\"row_heading level0 row6\" >6</th>\n",
       "      <td id=\"T_97cfe_row6_col0\" class=\"data row6 col0\" >0.3 %</td>\n",
       "      <td id=\"T_97cfe_row6_col1\" class=\"data row6 col1\" >0.1 %</td>\n",
       "      <td id=\"T_97cfe_row6_col2\" class=\"data row6 col2\" >0.1 %</td>\n",
       "      <td id=\"T_97cfe_row6_col3\" class=\"data row6 col3\" >0.0 %</td>\n",
       "      <td id=\"T_97cfe_row6_col4\" class=\"data row6 col4\" >0.2 %</td>\n",
       "      <td id=\"T_97cfe_row6_col5\" class=\"data row6 col5\" >0.5 %</td>\n",
       "      <td id=\"T_97cfe_row6_col6\" class=\"data row6 col6\" >98.4 %</td>\n",
       "      <td id=\"T_97cfe_row6_col7\" class=\"data row6 col7\" >0.0 %</td>\n",
       "      <td id=\"T_97cfe_row6_col8\" class=\"data row6 col8\" >0.3 %</td>\n",
       "      <td id=\"T_97cfe_row6_col9\" class=\"data row6 col9\" >0.0 %</td>\n",
       "    </tr>\n",
       "    <tr>\n",
       "      <th id=\"T_97cfe_level0_row7\" class=\"row_heading level0 row7\" >7</th>\n",
       "      <td id=\"T_97cfe_row7_col0\" class=\"data row7 col0\" >0.0 %</td>\n",
       "      <td id=\"T_97cfe_row7_col1\" class=\"data row7 col1\" >0.0 %</td>\n",
       "      <td id=\"T_97cfe_row7_col2\" class=\"data row7 col2\" >0.8 %</td>\n",
       "      <td id=\"T_97cfe_row7_col3\" class=\"data row7 col3\" >0.8 %</td>\n",
       "      <td id=\"T_97cfe_row7_col4\" class=\"data row7 col4\" >0.0 %</td>\n",
       "      <td id=\"T_97cfe_row7_col5\" class=\"data row7 col5\" >0.0 %</td>\n",
       "      <td id=\"T_97cfe_row7_col6\" class=\"data row7 col6\" >0.0 %</td>\n",
       "      <td id=\"T_97cfe_row7_col7\" class=\"data row7 col7\" >97.7 %</td>\n",
       "      <td id=\"T_97cfe_row7_col8\" class=\"data row7 col8\" >0.1 %</td>\n",
       "      <td id=\"T_97cfe_row7_col9\" class=\"data row7 col9\" >0.7 %</td>\n",
       "    </tr>\n",
       "    <tr>\n",
       "      <th id=\"T_97cfe_level0_row8\" class=\"row_heading level0 row8\" >8</th>\n",
       "      <td id=\"T_97cfe_row8_col0\" class=\"data row8 col0\" >0.4 %</td>\n",
       "      <td id=\"T_97cfe_row8_col1\" class=\"data row8 col1\" >0.0 %</td>\n",
       "      <td id=\"T_97cfe_row8_col2\" class=\"data row8 col2\" >0.1 %</td>\n",
       "      <td id=\"T_97cfe_row8_col3\" class=\"data row8 col3\" >0.3 %</td>\n",
       "      <td id=\"T_97cfe_row8_col4\" class=\"data row8 col4\" >0.2 %</td>\n",
       "      <td id=\"T_97cfe_row8_col5\" class=\"data row8 col5\" >0.2 %</td>\n",
       "      <td id=\"T_97cfe_row8_col6\" class=\"data row8 col6\" >0.0 %</td>\n",
       "      <td id=\"T_97cfe_row8_col7\" class=\"data row8 col7\" >0.4 %</td>\n",
       "      <td id=\"T_97cfe_row8_col8\" class=\"data row8 col8\" >98.0 %</td>\n",
       "      <td id=\"T_97cfe_row8_col9\" class=\"data row8 col9\" >0.3 %</td>\n",
       "    </tr>\n",
       "    <tr>\n",
       "      <th id=\"T_97cfe_level0_row9\" class=\"row_heading level0 row9\" >9</th>\n",
       "      <td id=\"T_97cfe_row9_col0\" class=\"data row9 col0\" >0.3 %</td>\n",
       "      <td id=\"T_97cfe_row9_col1\" class=\"data row9 col1\" >0.0 %</td>\n",
       "      <td id=\"T_97cfe_row9_col2\" class=\"data row9 col2\" >0.0 %</td>\n",
       "      <td id=\"T_97cfe_row9_col3\" class=\"data row9 col3\" >0.5 %</td>\n",
       "      <td id=\"T_97cfe_row9_col4\" class=\"data row9 col4\" >1.0 %</td>\n",
       "      <td id=\"T_97cfe_row9_col5\" class=\"data row9 col5\" >0.3 %</td>\n",
       "      <td id=\"T_97cfe_row9_col6\" class=\"data row9 col6\" >0.0 %</td>\n",
       "      <td id=\"T_97cfe_row9_col7\" class=\"data row9 col7\" >0.4 %</td>\n",
       "      <td id=\"T_97cfe_row9_col8\" class=\"data row9 col8\" >0.2 %</td>\n",
       "      <td id=\"T_97cfe_row9_col9\" class=\"data row9 col9\" >97.3 %</td>\n",
       "    </tr>\n",
       "  </tbody>\n",
       "</table>\n"
      ],
      "text/plain": [
       "<pandas.io.formats.style.Styler at 0x2b563240eb0>"
      ]
     },
     "execution_count": 31,
     "metadata": {},
     "output_type": "execute_result"
    }
   ],
   "source": [
    "confusion_matrix(Y_classes, Ttest).style.background_gradient(cmap='Blues').format(\"{:.1f} %\")"
   ]
  },
  {
   "cell_type": "markdown",
   "metadata": {},
   "source": [
    "This improvement is pretty marginal given the time required and it's a drop in accuracy for 1s. It seems like that might be why this technique isn't widely used: the gains are minimal while the time required is pretty big."
   ]
  }
 ],
 "metadata": {
  "interpreter": {
   "hash": "c428d4300b96006bd89c7861a64ca1379b2ef13eb8daabe066e18431431e18b4"
  },
  "kernelspec": {
   "display_name": "Python 3.9.12 64-bit",
   "language": "python",
   "name": "python3"
  },
  "language_info": {
   "codemirror_mode": {
    "name": "ipython",
    "version": 3
   },
   "file_extension": ".py",
   "mimetype": "text/x-python",
   "name": "python",
   "nbconvert_exporter": "python",
   "pygments_lexer": "ipython3",
   "version": "3.9.12"
  },
  "toc": {
   "base_numbering": 1,
   "nav_menu": {},
   "number_sections": true,
   "sideBar": true,
   "skip_h1_title": false,
   "title_cell": "Table of Contents",
   "title_sidebar": "Contents",
   "toc_cell": false,
   "toc_position": {},
   "toc_section_display": true,
   "toc_window_display": false
  }
 },
 "nbformat": 4,
 "nbformat_minor": 1
}
